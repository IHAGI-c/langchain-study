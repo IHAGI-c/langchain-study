{
 "cells": [
  {
   "cell_type": "markdown",
   "metadata": {},
   "source": [
    "# 생성한 데이터셋 업로드"
   ]
  },
  {
   "cell_type": "code",
   "execution_count": 1,
   "metadata": {},
   "outputs": [
    {
     "data": {
      "text/plain": [
       "True"
      ]
     },
     "execution_count": 1,
     "metadata": {},
     "output_type": "execute_result"
    }
   ],
   "source": [
    "from dotenv import load_dotenv\n",
    "\n",
    "load_dotenv()"
   ]
  },
  {
   "cell_type": "code",
   "execution_count": 2,
   "metadata": {},
   "outputs": [
    {
     "name": "stdout",
     "output_type": "stream",
     "text": [
      "LangSmith 추적을 시작합니다.\n",
      "[프로젝트명]\n",
      "02-Evaluations\n"
     ]
    }
   ],
   "source": [
    "# LangSmith 추적을 설정합니다. https://smith.langchain.com\n",
    "# !pip install -qU langchain-teddynote\n",
    "from langchain_teddynote import logging\n",
    "\n",
    "# 프로젝트 이름을 입력합니다.\n",
    "logging.langsmith(\"02-Evaluations\")"
   ]
  },
  {
   "cell_type": "code",
   "execution_count": 3,
   "metadata": {},
   "outputs": [
    {
     "data": {
      "text/html": [
       "<div>\n",
       "<style scoped>\n",
       "    .dataframe tbody tr th:only-of-type {\n",
       "        vertical-align: middle;\n",
       "    }\n",
       "\n",
       "    .dataframe tbody tr th {\n",
       "        vertical-align: top;\n",
       "    }\n",
       "\n",
       "    .dataframe thead th {\n",
       "        text-align: right;\n",
       "    }\n",
       "</style>\n",
       "<table border=\"1\" class=\"dataframe\">\n",
       "  <thead>\n",
       "    <tr style=\"text-align: right;\">\n",
       "      <th></th>\n",
       "      <th>question</th>\n",
       "      <th>contexts</th>\n",
       "      <th>ground_truth</th>\n",
       "      <th>evolution_type</th>\n",
       "      <th>metadata</th>\n",
       "      <th>episode_done</th>\n",
       "    </tr>\n",
       "  </thead>\n",
       "  <tbody>\n",
       "    <tr>\n",
       "      <th>0</th>\n",
       "      <td>What is the significance of AI risk management...</td>\n",
       "      <td>['1. 정책/법제 2. 기업/산업 3. 기술/연구 4. 인력/교육\\n영국 과학혁신...</td>\n",
       "      <td>AI risk management is significant in the conte...</td>\n",
       "      <td>simple</td>\n",
       "      <td>[{'source': './data/AI 브리프 2023년 12월.pdf', 'fi...</td>\n",
       "      <td>True</td>\n",
       "    </tr>\n",
       "    <tr>\n",
       "      <th>1</th>\n",
       "      <td>What is the significance of the LLM Hallucinat...</td>\n",
       "      <td>['1. 정책/법제 2. 기업/산업 3. 기술/연구 4. 인력/교육\\n갈릴레오의 L...</td>\n",
       "      <td>The significance of the LLM Hallucination Inde...</td>\n",
       "      <td>simple</td>\n",
       "      <td>[{'source': './data/AI 브리프 2023년 12월.pdf', 'fi...</td>\n",
       "      <td>True</td>\n",
       "    </tr>\n",
       "    <tr>\n",
       "      <th>2</th>\n",
       "      <td>What are the key components of AI risk managem...</td>\n",
       "      <td>['SPRi AI Brief |\\n2023-12월호\\nG7, 히로시마 AI 프로세스...</td>\n",
       "      <td>The key components of AI risk management menti...</td>\n",
       "      <td>simple</td>\n",
       "      <td>[{'source': './data/AI 브리프 2023년 12월.pdf', 'fi...</td>\n",
       "      <td>True</td>\n",
       "    </tr>\n",
       "    <tr>\n",
       "      <th>3</th>\n",
       "      <td>What are the key characteristics and applicati...</td>\n",
       "      <td>['구글 딥마인드, 범용 AI 모델의 기능과 동작에 대한 분류 체계 발표\\nKEY ...</td>\n",
       "      <td>The key characteristics of AGI (Artificial Gen...</td>\n",
       "      <td>simple</td>\n",
       "      <td>[{'source': './data/AI 브리프 2023년 12월.pdf', 'fi...</td>\n",
       "      <td>True</td>\n",
       "    </tr>\n",
       "    <tr>\n",
       "      <th>4</th>\n",
       "      <td>What connects AI growth with data privacy and ...</td>\n",
       "      <td>['£유튜브, 특정인을 모방한 AI 생성 콘텐츠에 대한 삭제 요청에도 대응 계획\\n...</td>\n",
       "      <td>The context discusses the connection between A...</td>\n",
       "      <td>reasoning</td>\n",
       "      <td>[{'source': './data/AI 브리프 2023년 12월.pdf', 'fi...</td>\n",
       "      <td>True</td>\n",
       "    </tr>\n",
       "  </tbody>\n",
       "</table>\n",
       "</div>"
      ],
      "text/plain": [
       "                                            question  \\\n",
       "0  What is the significance of AI risk management...   \n",
       "1  What is the significance of the LLM Hallucinat...   \n",
       "2  What are the key components of AI risk managem...   \n",
       "3  What are the key characteristics and applicati...   \n",
       "4  What connects AI growth with data privacy and ...   \n",
       "\n",
       "                                            contexts  \\\n",
       "0  ['1. 정책/법제 2. 기업/산업 3. 기술/연구 4. 인력/교육\\n영국 과학혁신...   \n",
       "1  ['1. 정책/법제 2. 기업/산업 3. 기술/연구 4. 인력/교육\\n갈릴레오의 L...   \n",
       "2  ['SPRi AI Brief |\\n2023-12월호\\nG7, 히로시마 AI 프로세스...   \n",
       "3  ['구글 딥마인드, 범용 AI 모델의 기능과 동작에 대한 분류 체계 발표\\nKEY ...   \n",
       "4  ['£유튜브, 특정인을 모방한 AI 생성 콘텐츠에 대한 삭제 요청에도 대응 계획\\n...   \n",
       "\n",
       "                                        ground_truth evolution_type  \\\n",
       "0  AI risk management is significant in the conte...         simple   \n",
       "1  The significance of the LLM Hallucination Inde...         simple   \n",
       "2  The key components of AI risk management menti...         simple   \n",
       "3  The key characteristics of AGI (Artificial Gen...         simple   \n",
       "4  The context discusses the connection between A...      reasoning   \n",
       "\n",
       "                                            metadata  episode_done  \n",
       "0  [{'source': './data/AI 브리프 2023년 12월.pdf', 'fi...          True  \n",
       "1  [{'source': './data/AI 브리프 2023년 12월.pdf', 'fi...          True  \n",
       "2  [{'source': './data/AI 브리프 2023년 12월.pdf', 'fi...          True  \n",
       "3  [{'source': './data/AI 브리프 2023년 12월.pdf', 'fi...          True  \n",
       "4  [{'source': './data/AI 브리프 2023년 12월.pdf', 'fi...          True  "
      ]
     },
     "execution_count": 3,
     "metadata": {},
     "output_type": "execute_result"
    }
   ],
   "source": [
    "import pandas as pd\n",
    "\n",
    "df = pd.read_csv(\"data/ragas_synthetic_dataset.csv\")\n",
    "df.head()"
   ]
  },
  {
   "cell_type": "markdown",
   "metadata": {},
   "source": [
    "## DeepL 을 활용한 번역\n",
    "\n",
    "- [DeepL API 키 발급](https://www.deepl.com/ko/your-account/keys)\n",
    "\n",
    "발급 받은 키를 `.env` 파일에 `DEEPL_API_KEY` 로 저장합니다."
   ]
  },
  {
   "cell_type": "code",
   "execution_count": 4,
   "metadata": {},
   "outputs": [
    {
     "name": "stdout",
     "output_type": "stream",
     "text": [
      "\n",
      "\u001b[1m[\u001b[0m\u001b[34;49mnotice\u001b[0m\u001b[1;39;49m]\u001b[0m\u001b[39;49m A new release of pip is available: \u001b[0m\u001b[31;49m24.2\u001b[0m\u001b[39;49m -> \u001b[0m\u001b[32;49m24.3.1\u001b[0m\n",
      "\u001b[1m[\u001b[0m\u001b[34;49mnotice\u001b[0m\u001b[1;39;49m]\u001b[0m\u001b[39;49m To update, run: \u001b[0m\u001b[32;49mpip install --upgrade pip\u001b[0m\n",
      "Note: you may need to restart the kernel to use updated packages.\n"
     ]
    }
   ],
   "source": [
    "%pip install -qU deepl"
   ]
  },
  {
   "cell_type": "code",
   "execution_count": 5,
   "metadata": {},
   "outputs": [
    {
     "name": "stdout",
     "output_type": "stream",
     "text": [
      "안녕하세요, 만나서 반가워요\n"
     ]
    }
   ],
   "source": [
    "import os\n",
    "from langchain_teddynote.translate import Translator\n",
    "\n",
    "# api키 설정\n",
    "deepl_api_key = os.getenv(\"DEEPL_API_KEY\")\n",
    "\n",
    "# 객체 생성\n",
    "translator = Translator(deepl_api_key, \"EN\", \"KO\")\n",
    "\n",
    "# 번역 실행\n",
    "translated_text = translator(\"hello, nice to meet you\")\n",
    "print(translated_text)"
   ]
  },
  {
   "cell_type": "code",
   "execution_count": 6,
   "metadata": {},
   "outputs": [
    {
     "name": "stderr",
     "output_type": "stream",
     "text": [
      "번역 진행 중: 100%|██████████| 9/9 [00:13<00:00,  1.52s/it]\n"
     ]
    }
   ],
   "source": [
    "from tqdm import tqdm\n",
    "\n",
    "# 번역\n",
    "for i, row in tqdm(df.iterrows(), total=len(df), desc=\"번역 진행 중\"):\n",
    "    df.loc[i, \"question_translated\"] = translator(row[\"question\"])\n",
    "    df.loc[i, \"ground_truth_translated\"] = translator(row[\"ground_truth\"])"
   ]
  },
  {
   "cell_type": "code",
   "execution_count": 7,
   "metadata": {},
   "outputs": [
    {
     "data": {
      "text/html": [
       "<div>\n",
       "<style scoped>\n",
       "    .dataframe tbody tr th:only-of-type {\n",
       "        vertical-align: middle;\n",
       "    }\n",
       "\n",
       "    .dataframe tbody tr th {\n",
       "        vertical-align: top;\n",
       "    }\n",
       "\n",
       "    .dataframe thead th {\n",
       "        text-align: right;\n",
       "    }\n",
       "</style>\n",
       "<table border=\"1\" class=\"dataframe\">\n",
       "  <thead>\n",
       "    <tr style=\"text-align: right;\">\n",
       "      <th></th>\n",
       "      <th>question</th>\n",
       "      <th>contexts</th>\n",
       "      <th>ground_truth</th>\n",
       "      <th>evolution_type</th>\n",
       "      <th>metadata</th>\n",
       "      <th>episode_done</th>\n",
       "      <th>question_translated</th>\n",
       "      <th>ground_truth_translated</th>\n",
       "    </tr>\n",
       "  </thead>\n",
       "  <tbody>\n",
       "    <tr>\n",
       "      <th>0</th>\n",
       "      <td>What is the significance of AI risk management...</td>\n",
       "      <td>['1. 정책/법제 2. 기업/산업 3. 기술/연구 4. 인력/교육\\n영국 과학혁신...</td>\n",
       "      <td>AI risk management is significant in the conte...</td>\n",
       "      <td>simple</td>\n",
       "      <td>[{'source': './data/AI 브리프 2023년 12월.pdf', 'fi...</td>\n",
       "      <td>True</td>\n",
       "      <td>AI 개발과 안전의 맥락에서 AI 위험 관리의 중요성은 무엇인가요?</td>\n",
       "      <td>AI 위험 관리는 AI 기술과 관련된 잠재적 위험을 식별하고 완화하는 것을 포함하므...</td>\n",
       "    </tr>\n",
       "    <tr>\n",
       "      <th>1</th>\n",
       "      <td>What is the significance of the LLM Hallucinat...</td>\n",
       "      <td>['1. 정책/법제 2. 기업/산업 3. 기술/연구 4. 인력/교육\\n갈릴레오의 L...</td>\n",
       "      <td>The significance of the LLM Hallucination Inde...</td>\n",
       "      <td>simple</td>\n",
       "      <td>[{'source': './data/AI 브리프 2023년 12월.pdf', 'fi...</td>\n",
       "      <td>True</td>\n",
       "      <td>AI 성능 평가에서 LLM 환각 지수의 의미는 무엇인가요?</td>\n",
       "      <td>AI 성능을 평가할 때 LLM 환각 지수의 중요성은 AI가 생성한 정보의 정확성을 ...</td>\n",
       "    </tr>\n",
       "    <tr>\n",
       "      <th>2</th>\n",
       "      <td>What are the key components of AI risk managem...</td>\n",
       "      <td>['SPRi AI Brief |\\n2023-12월호\\nG7, 히로시마 AI 프로세스...</td>\n",
       "      <td>The key components of AI risk management menti...</td>\n",
       "      <td>simple</td>\n",
       "      <td>[{'source': './data/AI 브리프 2023년 12월.pdf', 'fi...</td>\n",
       "      <td>True</td>\n",
       "      <td>G7 히로시마 프로세스 첨단 AI 시스템을 위한 국제 행동 강령에 언급된 AI 위험...</td>\n",
       "      <td>G7 히로시마 프로세스 첨단 AI 시스템 국제 행동 강령에 언급된 AI 위험 관리의...</td>\n",
       "    </tr>\n",
       "    <tr>\n",
       "      <th>3</th>\n",
       "      <td>What are the key characteristics and applicati...</td>\n",
       "      <td>['구글 딥마인드, 범용 AI 모델의 기능과 동작에 대한 분류 체계 발표\\nKEY ...</td>\n",
       "      <td>The key characteristics of AGI (Artificial Gen...</td>\n",
       "      <td>simple</td>\n",
       "      <td>[{'source': './data/AI 브리프 2023년 12월.pdf', 'fi...</td>\n",
       "      <td>True</td>\n",
       "      <td>AGI(인공 일반 지능)의 주요 특징과 활용 분야는 무엇인가요?</td>\n",
       "      <td>AGI(인공 일반 지능)의 주요 특징은 추론, 학습, 지각 등 인간과 유사한 인지 ...</td>\n",
       "    </tr>\n",
       "    <tr>\n",
       "      <th>4</th>\n",
       "      <td>What connects AI growth with data privacy and ...</td>\n",
       "      <td>['£유튜브, 특정인을 모방한 AI 생성 콘텐츠에 대한 삭제 요청에도 대응 계획\\n...</td>\n",
       "      <td>The context discusses the connection between A...</td>\n",
       "      <td>reasoning</td>\n",
       "      <td>[{'source': './data/AI 브리프 2023년 12월.pdf', 'fi...</td>\n",
       "      <td>True</td>\n",
       "      <td>AI 성장과 데이터 프라이버시 및 책임 있는 혁신의 관계는 무엇일까요?</td>\n",
       "      <td>이 문맥에서는 AI 성장과 데이터 프라이버시 사이의 연관성에 대해 논의하며 책임감 ...</td>\n",
       "    </tr>\n",
       "  </tbody>\n",
       "</table>\n",
       "</div>"
      ],
      "text/plain": [
       "                                            question  \\\n",
       "0  What is the significance of AI risk management...   \n",
       "1  What is the significance of the LLM Hallucinat...   \n",
       "2  What are the key components of AI risk managem...   \n",
       "3  What are the key characteristics and applicati...   \n",
       "4  What connects AI growth with data privacy and ...   \n",
       "\n",
       "                                            contexts  \\\n",
       "0  ['1. 정책/법제 2. 기업/산업 3. 기술/연구 4. 인력/교육\\n영국 과학혁신...   \n",
       "1  ['1. 정책/법제 2. 기업/산업 3. 기술/연구 4. 인력/교육\\n갈릴레오의 L...   \n",
       "2  ['SPRi AI Brief |\\n2023-12월호\\nG7, 히로시마 AI 프로세스...   \n",
       "3  ['구글 딥마인드, 범용 AI 모델의 기능과 동작에 대한 분류 체계 발표\\nKEY ...   \n",
       "4  ['£유튜브, 특정인을 모방한 AI 생성 콘텐츠에 대한 삭제 요청에도 대응 계획\\n...   \n",
       "\n",
       "                                        ground_truth evolution_type  \\\n",
       "0  AI risk management is significant in the conte...         simple   \n",
       "1  The significance of the LLM Hallucination Inde...         simple   \n",
       "2  The key components of AI risk management menti...         simple   \n",
       "3  The key characteristics of AGI (Artificial Gen...         simple   \n",
       "4  The context discusses the connection between A...      reasoning   \n",
       "\n",
       "                                            metadata  episode_done  \\\n",
       "0  [{'source': './data/AI 브리프 2023년 12월.pdf', 'fi...          True   \n",
       "1  [{'source': './data/AI 브리프 2023년 12월.pdf', 'fi...          True   \n",
       "2  [{'source': './data/AI 브리프 2023년 12월.pdf', 'fi...          True   \n",
       "3  [{'source': './data/AI 브리프 2023년 12월.pdf', 'fi...          True   \n",
       "4  [{'source': './data/AI 브리프 2023년 12월.pdf', 'fi...          True   \n",
       "\n",
       "                                 question_translated  \\\n",
       "0              AI 개발과 안전의 맥락에서 AI 위험 관리의 중요성은 무엇인가요?   \n",
       "1                   AI 성능 평가에서 LLM 환각 지수의 의미는 무엇인가요?   \n",
       "2  G7 히로시마 프로세스 첨단 AI 시스템을 위한 국제 행동 강령에 언급된 AI 위험...   \n",
       "3                AGI(인공 일반 지능)의 주요 특징과 활용 분야는 무엇인가요?   \n",
       "4            AI 성장과 데이터 프라이버시 및 책임 있는 혁신의 관계는 무엇일까요?   \n",
       "\n",
       "                             ground_truth_translated  \n",
       "0  AI 위험 관리는 AI 기술과 관련된 잠재적 위험을 식별하고 완화하는 것을 포함하므...  \n",
       "1  AI 성능을 평가할 때 LLM 환각 지수의 중요성은 AI가 생성한 정보의 정확성을 ...  \n",
       "2  G7 히로시마 프로세스 첨단 AI 시스템 국제 행동 강령에 언급된 AI 위험 관리의...  \n",
       "3  AGI(인공 일반 지능)의 주요 특징은 추론, 학습, 지각 등 인간과 유사한 인지 ...  \n",
       "4  이 문맥에서는 AI 성장과 데이터 프라이버시 사이의 연관성에 대해 논의하며 책임감 ...  "
      ]
     },
     "execution_count": 7,
     "metadata": {},
     "output_type": "execute_result"
    }
   ],
   "source": [
    "df.head()"
   ]
  },
  {
   "cell_type": "markdown",
   "metadata": {},
   "source": [
    "번역 전"
   ]
  },
  {
   "cell_type": "code",
   "execution_count": 8,
   "metadata": {},
   "outputs": [
    {
     "data": {
      "text/html": [
       "<div>\n",
       "<style scoped>\n",
       "    .dataframe tbody tr th:only-of-type {\n",
       "        vertical-align: middle;\n",
       "    }\n",
       "\n",
       "    .dataframe tbody tr th {\n",
       "        vertical-align: top;\n",
       "    }\n",
       "\n",
       "    .dataframe thead th {\n",
       "        text-align: right;\n",
       "    }\n",
       "</style>\n",
       "<table border=\"1\" class=\"dataframe\">\n",
       "  <thead>\n",
       "    <tr style=\"text-align: right;\">\n",
       "      <th></th>\n",
       "      <th>question</th>\n",
       "      <th>ground_truth</th>\n",
       "    </tr>\n",
       "  </thead>\n",
       "  <tbody>\n",
       "    <tr>\n",
       "      <th>0</th>\n",
       "      <td>What is the significance of AI risk management...</td>\n",
       "      <td>AI risk management is significant in the conte...</td>\n",
       "    </tr>\n",
       "    <tr>\n",
       "      <th>1</th>\n",
       "      <td>What is the significance of the LLM Hallucinat...</td>\n",
       "      <td>The significance of the LLM Hallucination Inde...</td>\n",
       "    </tr>\n",
       "    <tr>\n",
       "      <th>2</th>\n",
       "      <td>What are the key components of AI risk managem...</td>\n",
       "      <td>The key components of AI risk management menti...</td>\n",
       "    </tr>\n",
       "    <tr>\n",
       "      <th>3</th>\n",
       "      <td>What are the key characteristics and applicati...</td>\n",
       "      <td>The key characteristics of AGI (Artificial Gen...</td>\n",
       "    </tr>\n",
       "    <tr>\n",
       "      <th>4</th>\n",
       "      <td>What connects AI growth with data privacy and ...</td>\n",
       "      <td>The context discusses the connection between A...</td>\n",
       "    </tr>\n",
       "  </tbody>\n",
       "</table>\n",
       "</div>"
      ],
      "text/plain": [
       "                                            question  \\\n",
       "0  What is the significance of AI risk management...   \n",
       "1  What is the significance of the LLM Hallucinat...   \n",
       "2  What are the key components of AI risk managem...   \n",
       "3  What are the key characteristics and applicati...   \n",
       "4  What connects AI growth with data privacy and ...   \n",
       "\n",
       "                                        ground_truth  \n",
       "0  AI risk management is significant in the conte...  \n",
       "1  The significance of the LLM Hallucination Inde...  \n",
       "2  The key components of AI risk management menti...  \n",
       "3  The key characteristics of AGI (Artificial Gen...  \n",
       "4  The context discusses the connection between A...  "
      ]
     },
     "execution_count": 8,
     "metadata": {},
     "output_type": "execute_result"
    }
   ],
   "source": [
    "# question, ground_truth 열을 확인합니다.\n",
    "df.loc[:, [\"question\", \"ground_truth\"]].head()"
   ]
  },
  {
   "cell_type": "markdown",
   "metadata": {},
   "source": [
    "번역한 결과를 확인합니다."
   ]
  },
  {
   "cell_type": "code",
   "execution_count": 9,
   "metadata": {},
   "outputs": [
    {
     "data": {
      "text/html": [
       "<div>\n",
       "<style scoped>\n",
       "    .dataframe tbody tr th:only-of-type {\n",
       "        vertical-align: middle;\n",
       "    }\n",
       "\n",
       "    .dataframe tbody tr th {\n",
       "        vertical-align: top;\n",
       "    }\n",
       "\n",
       "    .dataframe thead th {\n",
       "        text-align: right;\n",
       "    }\n",
       "</style>\n",
       "<table border=\"1\" class=\"dataframe\">\n",
       "  <thead>\n",
       "    <tr style=\"text-align: right;\">\n",
       "      <th></th>\n",
       "      <th>question_translated</th>\n",
       "      <th>ground_truth_translated</th>\n",
       "    </tr>\n",
       "  </thead>\n",
       "  <tbody>\n",
       "    <tr>\n",
       "      <th>0</th>\n",
       "      <td>AI 개발과 안전의 맥락에서 AI 위험 관리의 중요성은 무엇인가요?</td>\n",
       "      <td>AI 위험 관리는 AI 기술과 관련된 잠재적 위험을 식별하고 완화하는 것을 포함하므...</td>\n",
       "    </tr>\n",
       "    <tr>\n",
       "      <th>1</th>\n",
       "      <td>AI 성능 평가에서 LLM 환각 지수의 의미는 무엇인가요?</td>\n",
       "      <td>AI 성능을 평가할 때 LLM 환각 지수의 중요성은 AI가 생성한 정보의 정확성을 ...</td>\n",
       "    </tr>\n",
       "    <tr>\n",
       "      <th>2</th>\n",
       "      <td>G7 히로시마 프로세스 첨단 AI 시스템을 위한 국제 행동 강령에 언급된 AI 위험...</td>\n",
       "      <td>G7 히로시마 프로세스 첨단 AI 시스템 국제 행동 강령에 언급된 AI 위험 관리의...</td>\n",
       "    </tr>\n",
       "    <tr>\n",
       "      <th>3</th>\n",
       "      <td>AGI(인공 일반 지능)의 주요 특징과 활용 분야는 무엇인가요?</td>\n",
       "      <td>AGI(인공 일반 지능)의 주요 특징은 추론, 학습, 지각 등 인간과 유사한 인지 ...</td>\n",
       "    </tr>\n",
       "    <tr>\n",
       "      <th>4</th>\n",
       "      <td>AI 성장과 데이터 프라이버시 및 책임 있는 혁신의 관계는 무엇일까요?</td>\n",
       "      <td>이 문맥에서는 AI 성장과 데이터 프라이버시 사이의 연관성에 대해 논의하며 책임감 ...</td>\n",
       "    </tr>\n",
       "  </tbody>\n",
       "</table>\n",
       "</div>"
      ],
      "text/plain": [
       "                                 question_translated  \\\n",
       "0              AI 개발과 안전의 맥락에서 AI 위험 관리의 중요성은 무엇인가요?   \n",
       "1                   AI 성능 평가에서 LLM 환각 지수의 의미는 무엇인가요?   \n",
       "2  G7 히로시마 프로세스 첨단 AI 시스템을 위한 국제 행동 강령에 언급된 AI 위험...   \n",
       "3                AGI(인공 일반 지능)의 주요 특징과 활용 분야는 무엇인가요?   \n",
       "4            AI 성장과 데이터 프라이버시 및 책임 있는 혁신의 관계는 무엇일까요?   \n",
       "\n",
       "                             ground_truth_translated  \n",
       "0  AI 위험 관리는 AI 기술과 관련된 잠재적 위험을 식별하고 완화하는 것을 포함하므...  \n",
       "1  AI 성능을 평가할 때 LLM 환각 지수의 중요성은 AI가 생성한 정보의 정확성을 ...  \n",
       "2  G7 히로시마 프로세스 첨단 AI 시스템 국제 행동 강령에 언급된 AI 위험 관리의...  \n",
       "3  AGI(인공 일반 지능)의 주요 특징은 추론, 학습, 지각 등 인간과 유사한 인지 ...  \n",
       "4  이 문맥에서는 AI 성장과 데이터 프라이버시 사이의 연관성에 대해 논의하며 책임감 ...  "
      ]
     },
     "execution_count": 9,
     "metadata": {},
     "output_type": "execute_result"
    }
   ],
   "source": [
    "# question_translated, ground_truth_translated 열을 확인합니다.\n",
    "df.loc[:, [\"question_translated\", \"ground_truth_translated\"]].head()"
   ]
  },
  {
   "cell_type": "code",
   "execution_count": 10,
   "metadata": {},
   "outputs": [
    {
     "data": {
      "text/html": [
       "<div>\n",
       "<style scoped>\n",
       "    .dataframe tbody tr th:only-of-type {\n",
       "        vertical-align: middle;\n",
       "    }\n",
       "\n",
       "    .dataframe tbody tr th {\n",
       "        vertical-align: top;\n",
       "    }\n",
       "\n",
       "    .dataframe thead th {\n",
       "        text-align: right;\n",
       "    }\n",
       "</style>\n",
       "<table border=\"1\" class=\"dataframe\">\n",
       "  <thead>\n",
       "    <tr style=\"text-align: right;\">\n",
       "      <th></th>\n",
       "      <th>contexts</th>\n",
       "      <th>evolution_type</th>\n",
       "      <th>metadata</th>\n",
       "      <th>episode_done</th>\n",
       "      <th>question</th>\n",
       "      <th>ground_truth</th>\n",
       "    </tr>\n",
       "  </thead>\n",
       "  <tbody>\n",
       "    <tr>\n",
       "      <th>0</th>\n",
       "      <td>['1. 정책/법제 2. 기업/산업 3. 기술/연구 4. 인력/교육\\n영국 과학혁신...</td>\n",
       "      <td>simple</td>\n",
       "      <td>[{'source': './data/AI 브리프 2023년 12월.pdf', 'fi...</td>\n",
       "      <td>True</td>\n",
       "      <td>AI 개발과 안전의 맥락에서 AI 위험 관리의 중요성은 무엇인가요?</td>\n",
       "      <td>AI 위험 관리는 AI 기술과 관련된 잠재적 위험을 식별하고 완화하는 것을 포함하므...</td>\n",
       "    </tr>\n",
       "    <tr>\n",
       "      <th>1</th>\n",
       "      <td>['1. 정책/법제 2. 기업/산업 3. 기술/연구 4. 인력/교육\\n갈릴레오의 L...</td>\n",
       "      <td>simple</td>\n",
       "      <td>[{'source': './data/AI 브리프 2023년 12월.pdf', 'fi...</td>\n",
       "      <td>True</td>\n",
       "      <td>AI 성능 평가에서 LLM 환각 지수의 의미는 무엇인가요?</td>\n",
       "      <td>AI 성능을 평가할 때 LLM 환각 지수의 중요성은 AI가 생성한 정보의 정확성을 ...</td>\n",
       "    </tr>\n",
       "    <tr>\n",
       "      <th>2</th>\n",
       "      <td>['SPRi AI Brief |\\n2023-12월호\\nG7, 히로시마 AI 프로세스...</td>\n",
       "      <td>simple</td>\n",
       "      <td>[{'source': './data/AI 브리프 2023년 12월.pdf', 'fi...</td>\n",
       "      <td>True</td>\n",
       "      <td>G7 히로시마 프로세스 첨단 AI 시스템을 위한 국제 행동 강령에 언급된 AI 위험...</td>\n",
       "      <td>G7 히로시마 프로세스 첨단 AI 시스템 국제 행동 강령에 언급된 AI 위험 관리의...</td>\n",
       "    </tr>\n",
       "    <tr>\n",
       "      <th>3</th>\n",
       "      <td>['구글 딥마인드, 범용 AI 모델의 기능과 동작에 대한 분류 체계 발표\\nKEY ...</td>\n",
       "      <td>simple</td>\n",
       "      <td>[{'source': './data/AI 브리프 2023년 12월.pdf', 'fi...</td>\n",
       "      <td>True</td>\n",
       "      <td>AGI(인공 일반 지능)의 주요 특징과 활용 분야는 무엇인가요?</td>\n",
       "      <td>AGI(인공 일반 지능)의 주요 특징은 추론, 학습, 지각 등 인간과 유사한 인지 ...</td>\n",
       "    </tr>\n",
       "    <tr>\n",
       "      <th>4</th>\n",
       "      <td>['£유튜브, 특정인을 모방한 AI 생성 콘텐츠에 대한 삭제 요청에도 대응 계획\\n...</td>\n",
       "      <td>reasoning</td>\n",
       "      <td>[{'source': './data/AI 브리프 2023년 12월.pdf', 'fi...</td>\n",
       "      <td>True</td>\n",
       "      <td>AI 성장과 데이터 프라이버시 및 책임 있는 혁신의 관계는 무엇일까요?</td>\n",
       "      <td>이 문맥에서는 AI 성장과 데이터 프라이버시 사이의 연관성에 대해 논의하며 책임감 ...</td>\n",
       "    </tr>\n",
       "  </tbody>\n",
       "</table>\n",
       "</div>"
      ],
      "text/plain": [
       "                                            contexts evolution_type  \\\n",
       "0  ['1. 정책/법제 2. 기업/산업 3. 기술/연구 4. 인력/교육\\n영국 과학혁신...         simple   \n",
       "1  ['1. 정책/법제 2. 기업/산업 3. 기술/연구 4. 인력/교육\\n갈릴레오의 L...         simple   \n",
       "2  ['SPRi AI Brief |\\n2023-12월호\\nG7, 히로시마 AI 프로세스...         simple   \n",
       "3  ['구글 딥마인드, 범용 AI 모델의 기능과 동작에 대한 분류 체계 발표\\nKEY ...         simple   \n",
       "4  ['£유튜브, 특정인을 모방한 AI 생성 콘텐츠에 대한 삭제 요청에도 대응 계획\\n...      reasoning   \n",
       "\n",
       "                                            metadata  episode_done  \\\n",
       "0  [{'source': './data/AI 브리프 2023년 12월.pdf', 'fi...          True   \n",
       "1  [{'source': './data/AI 브리프 2023년 12월.pdf', 'fi...          True   \n",
       "2  [{'source': './data/AI 브리프 2023년 12월.pdf', 'fi...          True   \n",
       "3  [{'source': './data/AI 브리프 2023년 12월.pdf', 'fi...          True   \n",
       "4  [{'source': './data/AI 브리프 2023년 12월.pdf', 'fi...          True   \n",
       "\n",
       "                                            question  \\\n",
       "0              AI 개발과 안전의 맥락에서 AI 위험 관리의 중요성은 무엇인가요?   \n",
       "1                   AI 성능 평가에서 LLM 환각 지수의 의미는 무엇인가요?   \n",
       "2  G7 히로시마 프로세스 첨단 AI 시스템을 위한 국제 행동 강령에 언급된 AI 위험...   \n",
       "3                AGI(인공 일반 지능)의 주요 특징과 활용 분야는 무엇인가요?   \n",
       "4            AI 성장과 데이터 프라이버시 및 책임 있는 혁신의 관계는 무엇일까요?   \n",
       "\n",
       "                                        ground_truth  \n",
       "0  AI 위험 관리는 AI 기술과 관련된 잠재적 위험을 식별하고 완화하는 것을 포함하므...  \n",
       "1  AI 성능을 평가할 때 LLM 환각 지수의 중요성은 AI가 생성한 정보의 정확성을 ...  \n",
       "2  G7 히로시마 프로세스 첨단 AI 시스템 국제 행동 강령에 언급된 AI 위험 관리의...  \n",
       "3  AGI(인공 일반 지능)의 주요 특징은 추론, 학습, 지각 등 인간과 유사한 인지 ...  \n",
       "4  이 문맥에서는 AI 성장과 데이터 프라이버시 사이의 연관성에 대해 논의하며 책임감 ...  "
      ]
     },
     "execution_count": 10,
     "metadata": {},
     "output_type": "execute_result"
    }
   ],
   "source": [
    "# question, ground_truth 열을 삭제하고 question_translated, ground_truth_translated 열의 이름을 변경합니다.\n",
    "df.drop(columns=[\"question\", \"ground_truth\"], inplace=True)\n",
    "df.rename(\n",
    "    columns={\n",
    "        \"question_translated\": \"question\",\n",
    "        \"ground_truth_translated\": \"ground_truth\",\n",
    "    },\n",
    "    inplace=True,\n",
    ")\n",
    "df.head()"
   ]
  },
  {
   "cell_type": "code",
   "execution_count": 11,
   "metadata": {},
   "outputs": [],
   "source": [
    "# 번역한 데이터셋을 저장합니다.\n",
    "df.to_csv(\"data/ragas_synthetic_dataset_translated.csv\", index=False)"
   ]
  },
  {
   "cell_type": "markdown",
   "metadata": {},
   "source": [
    "## Hugging Face Dataset 업로드\n",
    "\n",
    "Pandas DataFrame 을 Hugging Face Dataset 으로 변환하여 업로드를 진행합니다."
   ]
  },
  {
   "cell_type": "code",
   "execution_count": 12,
   "metadata": {},
   "outputs": [
    {
     "name": "stdout",
     "output_type": "stream",
     "text": [
      "Dataset({\n",
      "    features: ['contexts', 'evolution_type', 'metadata', 'episode_done', 'question', 'ground_truth'],\n",
      "    num_rows: 9\n",
      "})\n"
     ]
    }
   ],
   "source": [
    "from datasets import Dataset\n",
    "\n",
    "# pandas DataFrame을 Hugging Face Dataset으로 변환\n",
    "dataset = Dataset.from_pandas(df)\n",
    "\n",
    "# 데이터셋 확인\n",
    "print(dataset)"
   ]
  },
  {
   "cell_type": "code",
   "execution_count": 13,
   "metadata": {},
   "outputs": [
    {
     "data": {
      "application/vnd.jupyter.widget-view+json": {
       "model_id": "64ea57abbcf24120a3b60aa8d24bed28",
       "version_major": 2,
       "version_minor": 0
      },
      "text/plain": [
       "Pushing dataset shards to the dataset hub:   0%|          | 0/1 [00:00<?, ?it/s]"
      ]
     },
     "metadata": {},
     "output_type": "display_data"
    },
    {
     "data": {
      "application/vnd.jupyter.widget-view+json": {
       "model_id": "b49a22b085b149689fb7d719152fc94a",
       "version_major": 2,
       "version_minor": 0
      },
      "text/plain": [
       "Creating parquet from Arrow format:   0%|          | 0/1 [00:00<?, ?ba/s]"
      ]
     },
     "metadata": {},
     "output_type": "display_data"
    }
   ],
   "source": [
    "from datasets import Dataset\n",
    "import os\n",
    "\n",
    "# pandas DataFrame을 Hugging Face Dataset으로 변환\n",
    "dataset = Dataset.from_pandas(df)\n",
    "\n",
    "# 데이터셋 이름 설정 (원하는 이름으로 변경하세요)\n",
    "dataset_name = \"haseom/ragas-test-dataset-kr\"\n",
    "\n",
    "# 데이터셋 업로드\n",
    "dataset.push_to_hub(\n",
    "    dataset_name,\n",
    "    private=False,  # private=False로 설정하면 공개 데이터셋이 됩니다.\n",
    "    split=\"ragas_v1\",  # 데이터셋 split 이름 입력\n",
    "    token=os.getenv(\"HUGGINGFACEHUB_API_TOKEN\"),\n",
    ")"
   ]
  },
  {
   "cell_type": "markdown",
   "metadata": {},
   "source": [
    "[참고] Dataset Viewer 는 표기되기까지 시간이 좀 걸릴 수 있습니다."
   ]
  }
 ],
 "metadata": {
  "kernelspec": {
   "display_name": "py-test",
   "language": "python",
   "name": "python3"
  },
  "language_info": {
   "codemirror_mode": {
    "name": "ipython",
    "version": 3
   },
   "file_extension": ".py",
   "mimetype": "text/x-python",
   "name": "python",
   "nbconvert_exporter": "python",
   "pygments_lexer": "ipython3",
   "version": "3.11.10"
  }
 },
 "nbformat": 4,
 "nbformat_minor": 2
}
