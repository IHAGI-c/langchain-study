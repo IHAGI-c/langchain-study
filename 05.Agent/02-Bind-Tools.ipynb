{
 "cells": [
  {
   "cell_type": "markdown",
   "metadata": {},
   "source": [
    "# LLM 에 도구 바인딩(Binding Tools)\n",
    "\n",
    "LLM 모델이 도구(tool) 를 호출할 수 있으려면 chat 요청을 할 때 모델에 도구 스키마(tool schema) 를 전달해야 합니다. \n",
    "\n",
    "도구 호출(tool calling) 기능을 지원하는 LangChain Chat Model 은 `.bind_tools()` 메서드를 구현하여 LangChain 도구 객체, Pydantic 클래스 또는 JSON 스키마 목록을 수신하고 공급자별 예상 형식으로 채팅 모델에 바인딩(binding) 합니다.\n",
    "\n",
    "바인딩된 Chat Model 의 후속 호출은 모델 API에 대한 모든 호출에 도구 스키마를 포함합니다."
   ]
  },
  {
   "cell_type": "code",
   "execution_count": 1,
   "metadata": {},
   "outputs": [
    {
     "data": {
      "text/plain": [
       "True"
      ]
     },
     "execution_count": 1,
     "metadata": {},
     "output_type": "execute_result"
    }
   ],
   "source": [
    "# API KEY를 환경변수로 관리하기 위한 설정 파일\n",
    "from dotenv import load_dotenv\n",
    "\n",
    "# API KEY 정보로드\n",
    "load_dotenv()"
   ]
  },
  {
   "cell_type": "code",
   "execution_count": 2,
   "metadata": {},
   "outputs": [
    {
     "name": "stdout",
     "output_type": "stream",
     "text": [
      "LangSmith 추적을 시작합니다.\n",
      "[프로젝트명]\n",
      "02-Bind-Tools\n"
     ]
    }
   ],
   "source": [
    "# LangSmith 추적을 설정합니다. https://smith.langchain.com\n",
    "# !pip install -qU langchain-teddynote\n",
    "from langchain_teddynote import logging\n",
    "\n",
    "# 프로젝트 이름을 입력합니다.\n",
    "logging.langsmith(\"02-Bind-Tools\")"
   ]
  },
  {
   "cell_type": "markdown",
   "metadata": {},
   "source": [
    "## LLM에 바인딩할 Tool 정의\n",
    "\n",
    "실험을 위한 도구(tool) 를 정의합니다.\n",
    "\n",
    "- `get_word_length` : 단어의 길이를 반환하는 함수\n",
    "- `add_function` : 두 숫자를 더하는 함수\n",
    "- `naver_news_crawl` : 네이버 뉴스 기사를 크롤링하여 본문 내용을 반환하는 함수\n",
    "\n",
    "**참고**\n",
    "- 도구를 정의할 때 `@tool` 데코레이터를 사용하여 도구를 정의합니다.\n",
    "- docstring 은 가급적 영어로 작성하는 것을 권장합니다."
   ]
  },
  {
   "cell_type": "code",
   "execution_count": 3,
   "metadata": {},
   "outputs": [],
   "source": [
    "import re\n",
    "import requests\n",
    "from bs4 import BeautifulSoup\n",
    "from langchain.agents import tool\n",
    "\n",
    "\n",
    "# 도구를 정의합니다.\n",
    "@tool\n",
    "def get_word_length(word: str) -> int:\n",
    "    \"\"\"Returns the length of a word.\"\"\"\n",
    "    return len(word)\n",
    "\n",
    "\n",
    "@tool\n",
    "def add_function(a: float, b: float) -> float:\n",
    "    \"\"\"Adds two numbers together.\"\"\"\n",
    "    return a + b\n",
    "\n",
    "\n",
    "@tool\n",
    "def naver_news_crawl(news_url: str) -> str:\n",
    "    \"\"\"Crawls a 네이버 (naver.com) news article and returns the body content.\"\"\"\n",
    "    # HTTP GET 요청 보내기\n",
    "    response = requests.get(news_url)\n",
    "\n",
    "    # 요청이 성공했는지 확인\n",
    "    if response.status_code == 200:\n",
    "        # BeautifulSoup을 사용하여 HTML 파싱\n",
    "        soup = BeautifulSoup(response.text, \"html.parser\")\n",
    "\n",
    "        # 원하는 정보 추출\n",
    "        title = soup.find(\"h2\", id=\"title_area\").get_text()\n",
    "        content = soup.find(\"div\", id=\"contents\").get_text()\n",
    "        cleaned_title = re.sub(r\"\\n{2,}\", \"\\n\", title)\n",
    "        cleaned_content = re.sub(r\"\\n{2,}\", \"\\n\", content)\n",
    "    else:\n",
    "        print(f\"HTTP 요청 실패. 응답 코드: {response.status_code}\")\n",
    "\n",
    "    return f\"{cleaned_title}\\n{cleaned_content}\"\n",
    "\n",
    "\n",
    "tools = [get_word_length, add_function, naver_news_crawl]"
   ]
  },
  {
   "cell_type": "markdown",
   "metadata": {},
   "source": [
    "## bind_tools() 로 LLM 에 도구 바인딩\n",
    "\n",
    "llm 모델에 `bind_tools()` 를 사용하여 도구를 바인딩합니다."
   ]
  },
  {
   "cell_type": "code",
   "execution_count": 5,
   "metadata": {},
   "outputs": [],
   "source": [
    "from langchain_openai import AzureChatOpenAI\n",
    "\n",
    "# 모델 생성\n",
    "llm = AzureChatOpenAI(model=\"gpt-4o-mini\", temperature=0)\n",
    "\n",
    "# 도구 바인딩\n",
    "llm_with_tools = llm.bind_tools(tools)"
   ]
  },
  {
   "cell_type": "markdown",
   "metadata": {},
   "source": [
    "실행결과를 확인합니다. \n",
    "\n",
    "결과는 `tool_calls` 에 저장됩니다. 따라서, `.tool_calls` 를 확인하여 도구 호출 결과를 확인할 수 있습니다.\n",
    "\n",
    "**참고**\n",
    "- `name` 은 도구의 이름을 의미합니다.\n",
    "- `args` 는 도구에 전달되는 인자를 의미합니다."
   ]
  },
  {
   "cell_type": "code",
   "execution_count": 22,
   "metadata": {},
   "outputs": [
    {
     "data": {
      "text/plain": [
       "[{'name': 'get_word_length',\n",
       "  'args': {'word': '------------------------'},\n",
       "  'id': 'call_gxHYDAS4E9fIzuX08TwKq6iK',\n",
       "  'type': 'tool_call'}]"
      ]
     },
     "execution_count": 22,
     "metadata": {},
     "output_type": "execute_result"
    }
   ],
   "source": [
    "# 실행 결과\n",
    "llm_with_tools.invoke(\"What is the length of the word '-------------------------'?\").tool_calls"
   ]
  },
  {
   "cell_type": "markdown",
   "metadata": {},
   "source": [
    "다음으로는 `llm_with_tools` 와 `JsonOutputToolsParser` 를 연결하여 `tool_calls` 를 parsing 하여 결과를 확인합니다."
   ]
  },
  {
   "cell_type": "code",
   "execution_count": 11,
   "metadata": {},
   "outputs": [],
   "source": [
    "from langchain_core.output_parsers.openai_tools import JsonOutputToolsParser\n",
    "\n",
    "# 도구 바인딩 + 도구 파서\n",
    "chain = llm_with_tools | JsonOutputToolsParser(tools=tools)\n",
    "\n",
    "# 실행 결과\n",
    "tool_call_results = chain.invoke(\"What is the length of the word '-------------------------'?\")"
   ]
  },
  {
   "cell_type": "code",
   "execution_count": 12,
   "metadata": {},
   "outputs": [
    {
     "name": "stdout",
     "output_type": "stream",
     "text": [
      "[{'args': {'word': '------------------------'}, 'type': 'get_word_length'}]\n"
     ]
    }
   ],
   "source": [
    "print(tool_call_results)"
   ]
  },
  {
   "cell_type": "markdown",
   "metadata": {},
   "source": [
    "실행 결과는 다음과 같습니다.\n",
    "\n",
    "**참고**\n",
    "- `type`: 도구의 이름\n",
    "- `args`: 도구에 전달되는 인자"
   ]
  },
  {
   "cell_type": "code",
   "execution_count": 23,
   "metadata": {},
   "outputs": [
    {
     "name": "stdout",
     "output_type": "stream",
     "text": [
      "[{'args': {'word': '------------------------'}, 'type': 'get_word_length'}]\n",
      "\n",
      "==========\n",
      "\n",
      "get_word_length\n",
      "{'word': '------------------------'}\n"
     ]
    }
   ],
   "source": [
    "print(tool_call_results, end=\"\\n\\n==========\\n\\n\")\n",
    "# 첫 번째 도구 호출 결과\n",
    "single_result = tool_call_results[0]\n",
    "# 도구 이름\n",
    "print(single_result[\"type\"])\n",
    "# 도구 인자\n",
    "print(single_result[\"args\"])"
   ]
  },
  {
   "cell_type": "markdown",
   "metadata": {},
   "source": [
    "도구 이름과 일치하는 도구를 찾아 실행합니다."
   ]
  },
  {
   "cell_type": "code",
   "execution_count": 24,
   "metadata": {},
   "outputs": [
    {
     "data": {
      "text/plain": [
       "('get_word_length', 'get_word_length')"
      ]
     },
     "execution_count": 24,
     "metadata": {},
     "output_type": "execute_result"
    }
   ],
   "source": [
    "tool_call_results[0][\"type\"], tools[0].name"
   ]
  },
  {
   "cell_type": "markdown",
   "metadata": {},
   "source": [
    "`execute_tool_calls` 함수는 도구를 찾아 args 를 전달하여 도구를 실행합니다.\n",
    "\n",
    "즉, `type` 은 도구의 이름을 의미하고 `args` 는 도구에 전달되는 인자를 의미합니다."
   ]
  },
  {
   "cell_type": "code",
   "execution_count": 25,
   "metadata": {},
   "outputs": [
    {
     "name": "stdout",
     "output_type": "stream",
     "text": [
      "[실행도구] get_word_length [Argument] {'word': '------------------------'}\n",
      "[실행결과] 24\n"
     ]
    }
   ],
   "source": [
    "def execute_tool_calls(tool_call_results):\n",
    "    \"\"\"\n",
    "    도구 호출 결과를 실행하는 함수\n",
    "\n",
    "    :param tool_call_results: 도구 호출 결과 리스트\n",
    "    :param tools: 사용 가능한 도구 리스트\n",
    "    \"\"\"\n",
    "    # 도구 호출 결과 리스트를 순회합니다.\n",
    "    for tool_call_result in tool_call_results:\n",
    "        # 도구의 이름과 인자를 추출합니다.\n",
    "        tool_name = tool_call_result[\"type\"]  # 도구의 이름(함수명)\n",
    "        tool_args = tool_call_result[\"args\"]  # 도구에 전달되는 인자\n",
    "\n",
    "        # 도구 이름과 일치하는 도구를 찾아 실행합니다.\n",
    "        # next() 함수를 사용하여 일치하는 첫 번째 도구를 찾습니다.\n",
    "        matching_tool = next((tool for tool in tools if tool.name == tool_name), None)\n",
    "\n",
    "        if matching_tool:\n",
    "            # 일치하는 도구를 찾았다면 해당 도구를 실행합니다.\n",
    "            result = matching_tool.invoke(tool_args)\n",
    "            # 실행 결과를 출력합니다.\n",
    "            print(f\"[실행도구] {tool_name} [Argument] {tool_args}\\n[실행결과] {result}\")\n",
    "        else:\n",
    "            # 일치하는 도구를 찾지 못했다면 경고 메시지를 출력합니다.\n",
    "            print(f\"경고: {tool_name}에 해당하는 도구를 찾을 수 없습니다.\")\n",
    "\n",
    "\n",
    "# 도구 호출 실행\n",
    "# 이전에 얻은 tool_call_results를 인자로 전달하여 함수를 실행합니다.\n",
    "execute_tool_calls(tool_call_results)"
   ]
  },
  {
   "cell_type": "markdown",
   "metadata": {},
   "source": [
    "## bind_tools + Parser + Execution\n",
    "\n",
    "이번에는 일련의 과정을 한 번에 실행합니다.\n",
    "\n",
    "- `llm_with_tools` : 도구를 바인딩한 모델\n",
    "- `JsonOutputToolsParser` : 도구 호출 결과를 파싱하는 파서\n",
    "- `execute_tool_calls` : 도구 호출 결과를 실행하는 함수\n",
    "\n",
    "**흐름 정리**\n",
    "1. 모델에 도구를 바인딩\n",
    "2. 도구 호출 결과를 파싱\n",
    "3. 도구 호출 결과를 실행"
   ]
  },
  {
   "cell_type": "code",
   "execution_count": 26,
   "metadata": {},
   "outputs": [],
   "source": [
    "from langchain_core.output_parsers.openai_tools import JsonOutputToolsParser\n",
    "\n",
    "# bind_tools + Parser + Execution\n",
    "chain = llm_with_tools | JsonOutputToolsParser(tools=tools) | execute_tool_calls"
   ]
  },
  {
   "cell_type": "code",
   "execution_count": 27,
   "metadata": {},
   "outputs": [
    {
     "name": "stdout",
     "output_type": "stream",
     "text": [
      "[실행도구] get_word_length [Argument] {'word': '------------------------'}\n",
      "[실행결과] 24\n"
     ]
    }
   ],
   "source": [
    "# 실행 결과\n",
    "chain.invoke(\"What is the length of the word '-------------------------'?\")"
   ]
  },
  {
   "cell_type": "code",
   "execution_count": 28,
   "metadata": {},
   "outputs": [
    {
     "name": "stdout",
     "output_type": "stream",
     "text": [
      "[실행도구] add_function [Argument] {'a': 114.5, 'b': 121.2}\n",
      "[실행결과] 235.7\n",
      "235.7\n"
     ]
    }
   ],
   "source": [
    "# 실행 결과\n",
    "chain.invoke(\"114.5 + 121.2\")\n",
    "print(114.5 + 121.2)"
   ]
  },
  {
   "cell_type": "code",
   "execution_count": 29,
   "metadata": {},
   "outputs": [
    {
     "name": "stdout",
     "output_type": "stream",
     "text": [
      "[실행도구] naver_news_crawl [Argument] {'news_url': 'https://n.news.naver.com/mnews/article/648/0000032735'}\n",
      "[실행결과] 삼성바이오, CMO·시밀러 쌍끌이에 '4조 클럽' 가입\n",
      "\n",
      "연결매출 4.5조·영업익 1.3조 '역대 최대'올해 매출 20~25% 성장 기대…5조 돌파\n",
      "삼성바이오로직스가 지난해 20% 이상의 고성장을 이어가며 사상 최대인 4조5000억원의 매출을 기록했다. 바이오의약품 위탁생산(CMO) 및 바이오시밀러 사업 모두에서 역대 최대 실적을 낸 결과다. 삼성바이오로직스는 국내 바이오제약 최초로 '매출 4조 클럽'에 이름을 올리게 됐다.22일 금융감독원에 따르면 삼성바이오로직스는 지난해 연결 기준 매출 4조5473억원, 영업이익 1조3201억원을 기록했다. 전년대비 매출액은 23%(8527억원), 영업이익은 19%(2064억원) 각각 증가했다.삼성바이오로직스, 4조 클럽…올해도 20%이상 성장먼저 별도기준으로 삼성바이오로직스는 4공장 매출 상승 및 1~3공장 풀가동을 바탕으로 매출 3조4971억원, 영업이익 1조3214억원을 기록했다. 전년 대비 매출은 19%(5583억원), 영업이익은 10%(1172억원) 증가한 것으로 나타났다. 삼성바이오로직스는 지난해 글로벌 제약사와 잇단 위탁생산 계약을 체결하며 역대급 수주 성과를 보였다. 지난해 수주액만 43억달러로 2011년 창사 이래 누적 수주 총액은 176억 달러를 돌파했다. 현재 글로벌 상위 20곳 제약사 중 총 17곳을 고객사로 확보하고 있다.삼성바이오로직스는 올해 하반기 4공장이 풀가동되고 5공장(4월 준공 예정)까지 상업 생산에 돌입하면 매출 확대에 큰 기여를 할 것으로 기대하고 있다. 삼성바이오로직스는 2027년 가동을 목표로 6공장 건설도 계획하고 있다. 삼성바이오에피스, 영업이익 2300억 증가 '사상 최대'글로벌 시장에 바이오시밀러를 공급하는 삼성바이오에피스는 매출 1조5377억원, 영업이익 4354억원을 각각 기록했다. 바이오시밀러 제품의 글로벌 시장 진출 성과를 통해 매출은 전년 대비 51%(5174억원), 영업이익은 112%(2300억원)가 각각 증가했다. 지난해에는 솔리리스 바이오시밀러(SB12)의 한국∙미국 허가, 아일리아 바이오시밀러(SB15)의 한국∙미국∙유럽 허가, 스텔라라 바이오시밀러(SB17)의 한국∙유럽∙미국 허가로 글로벌 시장에서 제품 포트폴리오를 대폭 확대하면서 파트너사와의 판권 계약에 따른 마일스톤(연구개발 성과에 대한 대가) 수익을 극대화했다는 설명이다.삼성바이오에피스는 2025년 다국적 제약사 산도스(스텔라라 바이오시밀러) 및 테바(솔리리스 바이오시밀러)와의 파트너십을 통해 미국 시장에 신제품을 출시할 예정이며, 키트루다 바이오시밀러(SB27)는 임상 1상과 3상을 오버랩하는 전략을 통해 개발을 가속화할 계획이다.이에 따라 삼성바이오로직스는 2025년에도 안정적인 사업 확대를 통해 견조한 성장세를 이어갈 것으로 기대했다. 이에 따라 전년대비 20~25% 성장한 5조5705억원을 매출 전망치로 내놓았다.\n",
      "장종원 (jjw@bizwatch.co.kr)\n",
      "기자 프로필\n",
      "비즈워치\n",
      "비즈워치\n",
      "장종원 기자\n",
      "구독\n",
      "구독중\n",
      "구독자 0\n",
      "응원수\n",
      "0\n",
      "막 내린 JP모건 콘퍼런스, 주목받은 5가지 키워드\n",
      "진양곤 HLB그룹 회장, 계열사 지분 연이어 매입 \"신약 기대감\"\n",
      "비즈워치의 구독 많은 기자를 구독해보세요!\n",
      "닫기\n",
      "Copyright ⓒ 비즈워치. All rights reserved. 무단 전재 및 재배포 금지.\n",
      " \n",
      "이 기사는 언론사에서 경제 섹션으로 분류했습니다.\n",
      "기사 섹션 분류 안내\n",
      "기사의 섹션 정보는 해당 언론사의 분류를 따르고 있습니다. 언론사는 개별 기사를 2개 이상 섹션으로 중복 분류할 수 있습니다.\n",
      "닫기\n",
      "구독\n",
      "메인에서 바로 보는 언론사 편집 뉴스 지금 바로 구독해보세요!\n",
      "구독중\n",
      "메인에서 바로 보는 언론사 편집 뉴스 지금 바로 확인해보세요!\n",
      "10주년 특별기획 [디지털 전환(DX)인사이트]\n",
      "QR 코드를 클릭하면 크게 볼 수 있어요.\n",
      "QR을 촬영해보세요.\n",
      "10주년 특별기획 [디지털 전환(DX)인사이트]\n",
      "닫기\n",
      "AI시대, 경영전략은? [AX인사이트]\n",
      "QR 코드를 클릭하면 크게 볼 수 있어요.\n",
      "QR을 촬영해보세요.\n",
      "AI시대, 경영전략은? [AX인사이트]\n",
      "닫기\n",
      "비즈워치\n",
      "비즈워치\n",
      "\t\t\t주요뉴스해당 언론사에서 선정하며 언론사 페이지(아웃링크)로 이동해 볼 수 있습니다.\n",
      "[공모주달력]'겸손한 몸값' 강조한 LG CNS' 청약…기관 확약은 저조\n",
      "JP모건 헬스케어 뜨겁게 달군 '피하주사 항암제'\n",
      "[보푸라기]내가 낸 보험료, 연말정산 세액공제 된다고?\n",
      "막 내린 JP모건 콘퍼런스, 주목받은 5가지 키워드\n",
      "빗썸, 오너 리스크 털까…'고객정보 유출' 판결 임박\n",
      "이 기사를 추천합니다\n",
      "기사 추천은 24시간 내 50회까지 참여할 수 있습니다.\n",
      "닫기\n",
      "쏠쏠정보\n",
      "0\n",
      "흥미진진\n",
      "0\n",
      "공감백배\n",
      "0\n",
      "분석탁월\n",
      "0\n",
      "후속강추\n",
      "0\n",
      " \n",
      "모두에게 보여주고 싶은 기사라면?beta\n",
      "이 기사를 추천합니다 버튼을 눌러주세요.  집계 기간 동안 추천을 많이 받은 기사는 네이버 자동 기사배열 영역에 추천 요소로 활용됩니다.\n",
      "레이어 닫기\n",
      " \n",
      "비즈워치 언론사가 직접 선정한 이슈\n",
      "\t\t\t\n",
      "이슈\n",
      "무안공항 여객기 사고\n",
      "7개 공항 '종단안전구역' 240m로 늘린다\n",
      "이슈\n",
      "트럼프 시대 2.0\n",
      "트럼프, 캐나다·멕시코 25% 관세…\"국내 제약바이오 피해 가능\"\n",
      "이슈\n",
      "5세대 실손, 개혁인가 개악인가\n",
      "'제2의 건강보험' 어떻게 탄생했나\n",
      "이슈\n",
      "한미家 경영권 분쟁\n",
      "한미 경영권 분쟁 끝났나…장남 임종윤, 신동국과 맞손\n",
      "이슈\n",
      "티메프 사태 어디까지?\n",
      "NHN페이코, 티메프사태로 1300억 물려…'비상경영' 선언\n",
      "이전\n",
      "다음\n",
      "비즈워치 언론사홈 바로가기\n",
      " \n",
      "기자 구독 후 기사보기\n",
      "구독 없이 계속 보기\n",
      "\n"
     ]
    }
   ],
   "source": [
    "# 실행 결과\n",
    "chain.invoke(\n",
    "    \"뉴스 기사 내용을 크롤링해줘:https://n.news.naver.com/mnews/article/648/0000032735\"\n",
    ")"
   ]
  },
  {
   "cell_type": "markdown",
   "metadata": {},
   "source": [
    "## bind_tools > Agent & AgentExecutor 로 대체\n",
    "\n",
    "`bind_tools()` 는 모델에 사용할 수 있는 스키마(도구)를 제공합니다. \n",
    "\n",
    "`AgentExecutor` 는 실제로 llm 호출, 올바른 도구로 라우팅, 실행, 모델 재호출 등을 위한 실행 루프를 생성합니다.\n",
    "\n",
    "**참고**\n",
    "- `Agent` 와 `AgentExecutor` 에 대해서는 다음 장에서 자세히 다룹니다."
   ]
  },
  {
   "cell_type": "code",
   "execution_count": 46,
   "metadata": {},
   "outputs": [],
   "source": [
    "from langchain_community.tools.tavily_search import TavilySearchResults\n",
    "\n",
    "search = TavilySearchResults(k=6)"
   ]
  },
  {
   "cell_type": "code",
   "execution_count": 47,
   "metadata": {},
   "outputs": [],
   "source": [
    "from langchain_core.prompts import ChatPromptTemplate, MessagesPlaceholder\n",
    "from langchain_openai import AzureChatOpenAI\n",
    "\n",
    "# Agent 프롬프트 생성\n",
    "prompt = ChatPromptTemplate.from_messages(\n",
    "    [\n",
    "        (\n",
    "            \"system\",\n",
    "            \"You are very powerful assistant, but don't know current events\",\n",
    "        ),\n",
    "        (\"user\", \"{input}\"),\n",
    "        MessagesPlaceholder(variable_name=\"agent_scratchpad\"),\n",
    "    ]\n",
    ")\n",
    "\n",
    "# 모델 생성\n",
    "llm = AzureChatOpenAI(model=\"gpt-4o-mini\", temperature=0)"
   ]
  },
  {
   "cell_type": "code",
   "execution_count": 48,
   "metadata": {},
   "outputs": [],
   "source": [
    "from langchain.agents import create_tool_calling_agent\n",
    "from langchain.agents import AgentExecutor\n",
    "\n",
    "# 이전에 정의한 도구 사용\n",
    "tools = [get_word_length, add_function, naver_news_crawl, search]\n",
    "\n",
    "# Agent 생성\n",
    "agent = create_tool_calling_agent(llm, tools, prompt)\n",
    "\n",
    "# AgentExecutor 생성\n",
    "agent_executor = AgentExecutor(\n",
    "    agent=agent,\n",
    "    tools=tools,\n",
    "    verbose=True,\n",
    "    handle_parsing_errors=True,\n",
    ")"
   ]
  },
  {
   "cell_type": "code",
   "execution_count": 40,
   "metadata": {},
   "outputs": [
    {
     "name": "stdout",
     "output_type": "stream",
     "text": [
      "\n",
      "\n",
      "\u001b[1m> Entering new AgentExecutor chain...\u001b[0m\n",
      "\u001b[32;1m\u001b[1;3m\n",
      "Invoking: `get_word_length` with `{'word': '-------------------------'}`\n",
      "\n",
      "\n",
      "\u001b[0m\u001b[36;1m\u001b[1;3m25\u001b[0m\u001b[32;1m\u001b[1;3mThe word `-------------------------'` has 25 letters.\u001b[0m\n",
      "\n",
      "\u001b[1m> Finished chain.\u001b[0m\n",
      "The word `-------------------------'` has 25 letters.\n"
     ]
    }
   ],
   "source": [
    "# Agent 실행\n",
    "result = agent_executor.invoke({\"input\": \"How many letters in the word `-------------------------'?\"})\n",
    "\n",
    "# 결과 확인\n",
    "print(result[\"output\"])"
   ]
  },
  {
   "cell_type": "code",
   "execution_count": 41,
   "metadata": {},
   "outputs": [
    {
     "name": "stdout",
     "output_type": "stream",
     "text": [
      "\n",
      "\n",
      "\u001b[1m> Entering new AgentExecutor chain...\u001b[0m\n",
      "\u001b[32;1m\u001b[1;3m\n",
      "Invoking: `add_function` with `{'a': 114.5, 'b': 121.2}`\n",
      "\n",
      "\n",
      "\u001b[0m\u001b[33;1m\u001b[1;3m235.7\u001b[0m\u001b[32;1m\u001b[1;3m114.5 + 121.2의 계산 결과는 235.7입니다.\u001b[0m\n",
      "\n",
      "\u001b[1m> Finished chain.\u001b[0m\n",
      "114.5 + 121.2의 계산 결과는 235.7입니다.\n"
     ]
    }
   ],
   "source": [
    "# Agent 실행\n",
    "result = agent_executor.invoke({\"input\": \"114.5 + 121.2 의 계산 결과는?\"})\n",
    "\n",
    "# 결과 확인\n",
    "print(result[\"output\"])"
   ]
  },
  {
   "cell_type": "markdown",
   "metadata": {},
   "source": [
    "한 번의 실행으로 끝나는 것이 아닌, 모델이 자신의 결과를 확인하고 다시 자신을 호출하는 과정을 거칩니다."
   ]
  },
  {
   "cell_type": "code",
   "execution_count": 34,
   "metadata": {},
   "outputs": [
    {
     "name": "stdout",
     "output_type": "stream",
     "text": [
      "\n",
      "\n",
      "\u001b[1m> Entering new AgentExecutor chain...\u001b[0m\n",
      "\u001b[32;1m\u001b[1;3m\n",
      "Invoking: `add_function` with `{'a': 114.5, 'b': 121.2}`\n",
      "\n",
      "\n",
      "\u001b[0m\u001b[33;1m\u001b[1;3m235.7\u001b[0m\u001b[32;1m\u001b[1;3m\n",
      "Invoking: `add_function` with `{'a': 34.2, 'b': 110.1}`\n",
      "\n",
      "\n",
      "\u001b[0m\u001b[33;1m\u001b[1;3m144.3\u001b[0m\u001b[32;1m\u001b[1;3m\n",
      "Invoking: `add_function` with `{'a': 235.7, 'b': 144.3}`\n",
      "\n",
      "\n",
      "\u001b[0m\u001b[33;1m\u001b[1;3m380.0\u001b[0m\u001b[32;1m\u001b[1;3m114.5 + 121.2 + 34.2 + 110.1의 계산 결과는 380.0입니다.\u001b[0m\n",
      "\n",
      "\u001b[1m> Finished chain.\u001b[0m\n",
      "114.5 + 121.2 + 34.2 + 110.1의 계산 결과는 380.0입니다.\n",
      "==========\n",
      "\n",
      "380.0\n"
     ]
    }
   ],
   "source": [
    "# Agent 실행\n",
    "result = agent_executor.invoke(\n",
    "    {\"input\": \"114.5 + 121.2 + 34.2 + 110.1 의 계산 결과는?\"}\n",
    ")\n",
    "\n",
    "# 결과 확인\n",
    "print(result[\"output\"])\n",
    "print(\"==========\\n\")\n",
    "print(114.5 + 121.2 + 34.2 + 110.1)"
   ]
  },
  {
   "cell_type": "markdown",
   "metadata": {},
   "source": [
    "이번에는 뉴스 결과를 크롤링 해서 요약 해달라는 요청을 수행합니다.\n"
   ]
  },
  {
   "cell_type": "code",
   "execution_count": 35,
   "metadata": {},
   "outputs": [
    {
     "name": "stdout",
     "output_type": "stream",
     "text": [
      "\n",
      "\n",
      "\u001b[1m> Entering new AgentExecutor chain...\u001b[0m\n",
      "\u001b[32;1m\u001b[1;3m\n",
      "Invoking: `naver_news_crawl` with `{'news_url': 'https://n.news.naver.com/mnews/article/648/0000032735'}`\n",
      "\n",
      "\n",
      "\u001b[0m\u001b[38;5;200m\u001b[1;3m삼성바이오, CMO·시밀러 쌍끌이에 '4조 클럽' 가입\n",
      "\n",
      "연결매출 4.5조·영업익 1.3조 '역대 최대'올해 매출 20~25% 성장 기대…5조 돌파\n",
      "삼성바이오로직스가 지난해 20% 이상의 고성장을 이어가며 사상 최대인 4조5000억원의 매출을 기록했다. 바이오의약품 위탁생산(CMO) 및 바이오시밀러 사업 모두에서 역대 최대 실적을 낸 결과다. 삼성바이오로직스는 국내 바이오제약 최초로 '매출 4조 클럽'에 이름을 올리게 됐다.22일 금융감독원에 따르면 삼성바이오로직스는 지난해 연결 기준 매출 4조5473억원, 영업이익 1조3201억원을 기록했다. 전년대비 매출액은 23%(8527억원), 영업이익은 19%(2064억원) 각각 증가했다.삼성바이오로직스, 4조 클럽…올해도 20%이상 성장먼저 별도기준으로 삼성바이오로직스는 4공장 매출 상승 및 1~3공장 풀가동을 바탕으로 매출 3조4971억원, 영업이익 1조3214억원을 기록했다. 전년 대비 매출은 19%(5583억원), 영업이익은 10%(1172억원) 증가한 것으로 나타났다. 삼성바이오로직스는 지난해 글로벌 제약사와 잇단 위탁생산 계약을 체결하며 역대급 수주 성과를 보였다. 지난해 수주액만 43억달러로 2011년 창사 이래 누적 수주 총액은 176억 달러를 돌파했다. 현재 글로벌 상위 20곳 제약사 중 총 17곳을 고객사로 확보하고 있다.삼성바이오로직스는 올해 하반기 4공장이 풀가동되고 5공장(4월 준공 예정)까지 상업 생산에 돌입하면 매출 확대에 큰 기여를 할 것으로 기대하고 있다. 삼성바이오로직스는 2027년 가동을 목표로 6공장 건설도 계획하고 있다. 삼성바이오에피스, 영업이익 2300억 증가 '사상 최대'글로벌 시장에 바이오시밀러를 공급하는 삼성바이오에피스는 매출 1조5377억원, 영업이익 4354억원을 각각 기록했다. 바이오시밀러 제품의 글로벌 시장 진출 성과를 통해 매출은 전년 대비 51%(5174억원), 영업이익은 112%(2300억원)가 각각 증가했다. 지난해에는 솔리리스 바이오시밀러(SB12)의 한국∙미국 허가, 아일리아 바이오시밀러(SB15)의 한국∙미국∙유럽 허가, 스텔라라 바이오시밀러(SB17)의 한국∙유럽∙미국 허가로 글로벌 시장에서 제품 포트폴리오를 대폭 확대하면서 파트너사와의 판권 계약에 따른 마일스톤(연구개발 성과에 대한 대가) 수익을 극대화했다는 설명이다.삼성바이오에피스는 2025년 다국적 제약사 산도스(스텔라라 바이오시밀러) 및 테바(솔리리스 바이오시밀러)와의 파트너십을 통해 미국 시장에 신제품을 출시할 예정이며, 키트루다 바이오시밀러(SB27)는 임상 1상과 3상을 오버랩하는 전략을 통해 개발을 가속화할 계획이다.이에 따라 삼성바이오로직스는 2025년에도 안정적인 사업 확대를 통해 견조한 성장세를 이어갈 것으로 기대했다. 이에 따라 전년대비 20~25% 성장한 5조5705억원을 매출 전망치로 내놓았다.\n",
      "장종원 (jjw@bizwatch.co.kr)\n",
      "기자 프로필\n",
      "비즈워치\n",
      "비즈워치\n",
      "장종원 기자\n",
      "구독\n",
      "구독중\n",
      "구독자 0\n",
      "응원수\n",
      "0\n",
      "막 내린 JP모건 콘퍼런스, 주목받은 5가지 키워드\n",
      "진양곤 HLB그룹 회장, 계열사 지분 연이어 매입 \"신약 기대감\"\n",
      "비즈워치의 구독 많은 기자를 구독해보세요!\n",
      "닫기\n",
      "Copyright ⓒ 비즈워치. All rights reserved. 무단 전재 및 재배포 금지.\n",
      " \n",
      "이 기사는 언론사에서 경제 섹션으로 분류했습니다.\n",
      "기사 섹션 분류 안내\n",
      "기사의 섹션 정보는 해당 언론사의 분류를 따르고 있습니다. 언론사는 개별 기사를 2개 이상 섹션으로 중복 분류할 수 있습니다.\n",
      "닫기\n",
      "구독\n",
      "메인에서 바로 보는 언론사 편집 뉴스 지금 바로 구독해보세요!\n",
      "구독중\n",
      "메인에서 바로 보는 언론사 편집 뉴스 지금 바로 확인해보세요!\n",
      "10주년 특별기획 [디지털 전환(DX)인사이트]\n",
      "QR 코드를 클릭하면 크게 볼 수 있어요.\n",
      "QR을 촬영해보세요.\n",
      "10주년 특별기획 [디지털 전환(DX)인사이트]\n",
      "닫기\n",
      "AI시대, 경영전략은? [AX인사이트]\n",
      "QR 코드를 클릭하면 크게 볼 수 있어요.\n",
      "QR을 촬영해보세요.\n",
      "AI시대, 경영전략은? [AX인사이트]\n",
      "닫기\n",
      "비즈워치\n",
      "비즈워치\n",
      "\t\t\t주요뉴스해당 언론사에서 선정하며 언론사 페이지(아웃링크)로 이동해 볼 수 있습니다.\n",
      "[공모주달력]'겸손한 몸값' 강조한 LG CNS' 청약…기관 확약은 저조\n",
      "JP모건 헬스케어 뜨겁게 달군 '피하주사 항암제'\n",
      "[보푸라기]내가 낸 보험료, 연말정산 세액공제 된다고?\n",
      "막 내린 JP모건 콘퍼런스, 주목받은 5가지 키워드\n",
      "빗썸, 오너 리스크 털까…'고객정보 유출' 판결 임박\n",
      "이 기사를 추천합니다\n",
      "기사 추천은 24시간 내 50회까지 참여할 수 있습니다.\n",
      "닫기\n",
      "쏠쏠정보\n",
      "0\n",
      "흥미진진\n",
      "0\n",
      "공감백배\n",
      "0\n",
      "분석탁월\n",
      "0\n",
      "후속강추\n",
      "0\n",
      " \n",
      "모두에게 보여주고 싶은 기사라면?beta\n",
      "이 기사를 추천합니다 버튼을 눌러주세요.  집계 기간 동안 추천을 많이 받은 기사는 네이버 자동 기사배열 영역에 추천 요소로 활용됩니다.\n",
      "레이어 닫기\n",
      " \n",
      "비즈워치 언론사가 직접 선정한 이슈\n",
      "\t\t\t\n",
      "이슈\n",
      "탄핵 정국 경제\n",
      "난데없는 계엄으로 35억 물게된 업비트·빗썸\n",
      "이슈\n",
      "부동산 시장은 지금\n",
      "민간사전청약 당첨취소자 '모두 구제' 한다지만…\n",
      "이슈\n",
      "5세대 실손, 개혁인가 개악인가\n",
      "'제2의 건강보험' 어떻게 탄생했나\n",
      "이슈\n",
      "인공지능전환(AX) 시대\n",
      "②가전에 전장까지…韓 기업 총출동\n",
      "이슈\n",
      "전기차 내연기관차 대체하나\n",
      "BYD 빗속에 몰아보니, 중국차 편견 씻겼다\n",
      "이전\n",
      "다음\n",
      "비즈워치 언론사홈 바로가기\n",
      " \n",
      "기자 구독 후 기사보기\n",
      "구독 없이 계속 보기\n",
      "\u001b[0m\u001b[32;1m\u001b[1;3m기사 제목: **삼성바이오, CMO·시밀러 쌍끌이에 '4조 클럽' 가입**\n",
      "\n",
      "삼성바이오로직스가 지난해 20% 이상의 고성장을 이어가며 사상 최대인 4조5000억원의 매출을 기록했습니다. 이는 바이오의약품 위탁생산(CMO) 및 바이오시밀러 사업 모두에서 역대 최대 실적을 낸 결과입니다. 삼성바이오로직스는 국내 바이오제약 최초로 '매출 4조 클럽'에 이름을 올리게 되었습니다.\n",
      "\n",
      "금융감독원에 따르면, 삼성바이오로직스는 지난해 연결 기준으로 매출 4조5473억원, 영업이익 1조3201억원을 기록했습니다. 전년 대비 매출액은 23% 증가했으며, 영업이익은 19% 증가했습니다.\n",
      "\n",
      "별도 기준으로는 4공장 매출 상승 및 1~3공장 풀가동을 바탕으로 매출 3조4971억원, 영업이익 1조3214억원을 기록했습니다. 삼성바이오로직스는 지난해 글로벌 제약사와 잇단 위탁생산 계약을 체결하며 역대급 수주 성과를 보였고, 지난해 수주액은 43억 달러에 달했습니다.\n",
      "\n",
      "올해 하반기에는 4공장이 풀가동되고 5공장도 상업 생산에 돌입할 예정이며, 2027년 가동을 목표로 6공장 건설도 계획하고 있습니다.\n",
      "\n",
      "삼성바이오에피스는 매출 1조5377억원, 영업이익 4354억원을 기록하며, 바이오시밀러 제품의 글로벌 시장 진출 성과를 통해 매출은 전년 대비 51% 증가했습니다. 삼성바이오에피스는 2025년 다국적 제약사와의 파트너십을 통해 미국 시장에 신제품을 출시할 예정입니다.\n",
      "\n",
      "삼성바이오로직스는 2025년에도 안정적인 사업 확대를 통해 20~25% 성장한 5조5705억원의 매출을 전망하고 있습니다.\u001b[0m\n",
      "\n",
      "\u001b[1m> Finished chain.\u001b[0m\n",
      "기사 제목: **삼성바이오, CMO·시밀러 쌍끌이에 '4조 클럽' 가입**\n",
      "\n",
      "삼성바이오로직스가 지난해 20% 이상의 고성장을 이어가며 사상 최대인 4조5000억원의 매출을 기록했습니다. 이는 바이오의약품 위탁생산(CMO) 및 바이오시밀러 사업 모두에서 역대 최대 실적을 낸 결과입니다. 삼성바이오로직스는 국내 바이오제약 최초로 '매출 4조 클럽'에 이름을 올리게 되었습니다.\n",
      "\n",
      "금융감독원에 따르면, 삼성바이오로직스는 지난해 연결 기준으로 매출 4조5473억원, 영업이익 1조3201억원을 기록했습니다. 전년 대비 매출액은 23% 증가했으며, 영업이익은 19% 증가했습니다.\n",
      "\n",
      "별도 기준으로는 4공장 매출 상승 및 1~3공장 풀가동을 바탕으로 매출 3조4971억원, 영업이익 1조3214억원을 기록했습니다. 삼성바이오로직스는 지난해 글로벌 제약사와 잇단 위탁생산 계약을 체결하며 역대급 수주 성과를 보였고, 지난해 수주액은 43억 달러에 달했습니다.\n",
      "\n",
      "올해 하반기에는 4공장이 풀가동되고 5공장도 상업 생산에 돌입할 예정이며, 2027년 가동을 목표로 6공장 건설도 계획하고 있습니다.\n",
      "\n",
      "삼성바이오에피스는 매출 1조5377억원, 영업이익 4354억원을 기록하며, 바이오시밀러 제품의 글로벌 시장 진출 성과를 통해 매출은 전년 대비 51% 증가했습니다. 삼성바이오에피스는 2025년 다국적 제약사와의 파트너십을 통해 미국 시장에 신제품을 출시할 예정입니다.\n",
      "\n",
      "삼성바이오로직스는 2025년에도 안정적인 사업 확대를 통해 20~25% 성장한 5조5705억원의 매출을 전망하고 있습니다.\n"
     ]
    }
   ],
   "source": [
    "result = agent_executor.invoke(\n",
    "    {\n",
    "        \"input\": \"뉴스 기사 내용을 크롤링해줘:https://n.news.naver.com/mnews/article/648/0000032735\"\n",
    "    }\n",
    ")\n",
    "print(result[\"output\"])"
   ]
  },
  {
   "cell_type": "code",
   "execution_count": 50,
   "metadata": {},
   "outputs": [
    {
     "name": "stdout",
     "output_type": "stream",
     "text": [
      "\n",
      "\n",
      "\u001b[1m> Entering new AgentExecutor chain...\u001b[0m\n",
      "\u001b[32;1m\u001b[1;3m\n",
      "Invoking: `tavily_search_results_json` with `{'query': '2025년 미국 대통령'}`\n",
      "\n",
      "\n",
      "\u001b[0m\u001b[36;1m\u001b[1;3m[{'url': 'https://www.youtube.com/watch?v=3rQ40CsQgwU', 'content': '미국의 47대 대통령으로 도널드 트럼프 당선인이 취임합니다. 8년 전 취임식에서 \"미국을 다시 위대하게!\"를 외쳤던 트럼프 당선인이 4년 만에 다시'}, {'url': 'https://ko.wikipedia.org/wiki/2025년_도널드_트럼프_대통령_취임식', 'content': '2025년 도널드 트럼프 대통렴의 취임식 장면. 2025년 도널드 트럼프 대통령 취임식은 도널드 트럼프의 제47대 미국의 대통령 취임식이다. 2025년 1월 20일, 워싱턴 d.c.에 있는 미국 국회의사당 로턴다에서 개최되었다. 이는 미국 대통령의 60번째 취임식이자 도널드 트럼프의 두 번째 대통령 취임식다.'}, {'url': 'https://www.klog.kr/news/트럼프-취임일-공약-11가지', 'content': '2025년 1월 20일 제47대 미국 대통령 도널드 트럼프의 취임일은 2025년 1월 20일로 예정되어 있습니다(현지 시간). 많은 이들이 그의 취임 첫날에 주목하는 이유는, 그가 선거 유세 중 \"취임 첫날만큼은 독재자가 되고 싶다\"고 언급하며 강력한 정책 추진을 예고했기'}, {'url': 'https://www.economidaily.com/view/20250121021542316', 'content': '도널드 트럼프가 2025년 1월 20일 월요일 워싱턴 미 국회의사당 원형홀에서 열린 제60대 대통령 취임식에서 멜라니아 트럼프가 성경을 들고 있는 가운데 존 로버츠 대법원장으로부터 미국의 제47대 대통령으로 취임했다.[사진=로이터 연합뉴스]'}, {'url': 'https://www.bbc.com/korean/articles/c9qj72rjn07o', 'content': \"도널드 트럼프 취임식 어떻게 진행될까? 미리 보는 도널드 트럼프 취임식, 어떻게 진행될까? 사진 설명, 취임식 전날인 19일 워싱턴 공항에 도착한 트럼프 당선인 도널드 트럼프가 20일(현지시간) 미국 제47대 대통령으로 공식 취임한다. 트럼프 당선인의 임기는 현지 시각 미 동부 시간 20일(현지 시각) 정오부터 시작된다. 도널드 트럼프의 미국 대통령 취임식이 어떻게 진행될지 정리했다. 트럼프 당선인은 지난 11월 선거에서 승리했지만, 이 선서를 낭독해야 공식적으로 미국 47대 대통령이 된다. 트럼프의 주요 공약을 실현하기 위해 선택된 10명은 누구?2025년 1월 12일 트럼프 당선 후 첫 주 행보를 통해 본 5가지 시사점2024년 11월 15일 2024 미국 대선 개표 결과 보기2024년 11월 11일 트럼프 당선인의 취임식은 20일(현지 시각) 정오에 미 의회 의사당 안에서 진행된다. 미국 디스코 그룹 '빌리지 피플'도 트럼프의 취임식 무도회 중 한곳에서 공연할 예정이라고 발표했다. 미리 보는 도널드 트럼프 취임식, 어떻게 진행될까?\"}]\u001b[0m\u001b[32;1m\u001b[1;3m2025년 현재 미국 대통령은 도널드 트럼프입니다. 그는 2025년 1월 20일에 제47대 대통령으로 취임하였습니다.\u001b[0m\n",
      "\n",
      "\u001b[1m> Finished chain.\u001b[0m\n",
      "2025년 현재 미국 대통령은 도널드 트럼프입니다. 그는 2025년 1월 20일에 제47대 대통령으로 취임하였습니다.\n"
     ]
    }
   ],
   "source": [
    "result = agent_executor.invoke(\n",
    "    {\"input\": \"2025년 현재 미국 대통령은 누구인가?\"}\n",
    ")\n",
    "print(result[\"output\"])\n",
    "\n"
   ]
  }
 ],
 "metadata": {
  "kernelspec": {
   "display_name": "py-test",
   "language": "python",
   "name": "python3"
  },
  "language_info": {
   "codemirror_mode": {
    "name": "ipython",
    "version": 3
   },
   "file_extension": ".py",
   "mimetype": "text/x-python",
   "name": "python",
   "nbconvert_exporter": "python",
   "pygments_lexer": "ipython3",
   "version": "3.11.10"
  }
 },
 "nbformat": 4,
 "nbformat_minor": 2
}
