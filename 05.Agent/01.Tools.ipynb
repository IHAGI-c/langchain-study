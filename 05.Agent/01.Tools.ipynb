{
 "cells": [
  {
   "cell_type": "markdown",
   "metadata": {},
   "source": [
    "# 도구 (Tools)\n",
    "\n",
    "도구(Tool)는 유명한 에이전트, 체인 또는 LLM이 외부 세계와 상호작용하기 위한 인터페이스임.\n",
    "\n",
    "LangChain 에서 기본 제공하는 도구를 사용하여 쉽게 도구를 활용할 수 있고, 사용자 정의 도구(Custom Tool) 를 쉽게 구축하는 것도 가능함.\n",
    "\n",
    "**LangChain 에 통합된 도구 리스트는 아래 링크에서 확인.**\n",
    "\n",
    "- [LangChain 통합된 도구 리스트](https://python.langchain.com/docs/integrations/tools/)"
   ]
  },
  {
   "cell_type": "code",
   "execution_count": 1,
   "metadata": {},
   "outputs": [
    {
     "data": {
      "text/plain": [
       "True"
      ]
     },
     "execution_count": 1,
     "metadata": {},
     "output_type": "execute_result"
    }
   ],
   "source": [
    "# API 키를 환경변수로 관리하기 위한 설정 파일\n",
    "from dotenv import load_dotenv\n",
    "\n",
    "# API 키 정보 로드\n",
    "load_dotenv()"
   ]
  },
  {
   "cell_type": "code",
   "execution_count": 2,
   "metadata": {},
   "outputs": [
    {
     "name": "stdout",
     "output_type": "stream",
     "text": [
      "LangSmith 추적을 시작합니다.\n",
      "[프로젝트명]\n",
      "Agent-Tools\n"
     ]
    }
   ],
   "source": [
    "# LangSmith 추적을 설정합니다. https://smith.langchain.com\n",
    "# !pip install -qU langchain-teddynote\n",
    "from langchain_teddynote import logging\n",
    "\n",
    "# 프로젝트 이름을 입력합니다.\n",
    "logging.langsmith(\"Agent-Tools\")"
   ]
  },
  {
   "cell_type": "code",
   "execution_count": 3,
   "metadata": {},
   "outputs": [],
   "source": [
    "import warnings\n",
    "\n",
    "warnings.filterwarnings(\"ignore\")"
   ]
  },
  {
   "cell_type": "markdown",
   "metadata": {},
   "source": [
    "## 빌트인 도구(built-in tools)\n",
    "\n",
    "랭체인에서 제공하는 사전에 정의된 도구(tool) 와 툴킷(toolkit) 을 사용할 수 있음.\n",
    "\n",
    "tool 은 단일 도구를 의미하며, toolkit 은 여러 도구를 묶어서 하나의 도구로 사용할 수 있음.\n",
    "\n",
    "관련 도구는 아래의 링크에서 참고\n",
    "\n",
    "**참고**\n",
    "- [LangChain Tools/Toolkits](https://python.langchain.com/docs/integrations/tools/)"
   ]
  },
  {
   "cell_type": "markdown",
   "metadata": {},
   "source": [
    "### Python REPL 도구\n",
    "\n",
    "이 도구는 Python 코드를 REPL(Read-Eval-Print Loop) 환경에서 실행하기 위한 클래스를 제공합니다\n",
    "- PythonREPLTool\n",
    "\n",
    "**설명**\n",
    "\n",
    "- Python 셸 환경을 제공합니다.\n",
    "- 유효한 Python 명령어를 입력으로 받아 실행합니다.\n",
    "- 결과를 보려면 print(...) 함수를 사용해야 합니다.\n",
    "\n",
    "**주요 특징**\n",
    "\n",
    "- sanitize_input: 입력을 정제하는 옵션 (기본값: True)\n",
    "- python_repl: PythonREPL 인스턴스 (기본값: 전역 범위에서 실행)\n",
    "\n",
    "**사용 방법**\n",
    "\n",
    "- PythonREPLTool 인스턴스 생성\n",
    "- run 또는 arun, invoke 메서드를 사용하여 Python 코드 실행\n",
    "\n",
    "**입력 정제**\n",
    "\n",
    "- 입력 문자열에서 불필요한 공백, 백틱, 'python' 키워드 등을 제거합니다."
   ]
  },
  {
   "cell_type": "code",
   "execution_count": 25,
   "metadata": {},
   "outputs": [],
   "source": [
    "from langchain_experimental.tools import PythonREPLTool\n",
    "\n",
    "# 파이썬 코드를 실행하는 도구를 생성합니다.\n",
    "python_tool = PythonREPLTool()"
   ]
  },
  {
   "cell_type": "code",
   "execution_count": 26,
   "metadata": {},
   "outputs": [
    {
     "name": "stdout",
     "output_type": "stream",
     "text": [
      "300\n",
      "\n"
     ]
    }
   ],
   "source": [
    "# 파이썬 코드를 실행하고 결과를 반환합니다.\n",
    "print(python_tool.invoke(\"print(100 + 200)\"))"
   ]
  },
  {
   "cell_type": "markdown",
   "metadata": {},
   "source": [
    "아래는 LLM 에게 파이썬 코드를 작성하도록 요청하고 결과를 반환하는 예제입니다.\n",
    "\n",
    "**흐름 정리**\n",
    "1. LLM 모델에게 특정 작업을 수행하는 Python 코드를 작성하도록 요청합니다.\n",
    "2. 작성된 코드를 실행하여 결과를 얻습니다.\n",
    "3. 결과를 출력합니다.\n"
   ]
  },
  {
   "cell_type": "code",
   "execution_count": 29,
   "metadata": {},
   "outputs": [],
   "source": [
    "from langchain_openai import AzureChatOpenAI\n",
    "from langchain_core.prompts import ChatPromptTemplate\n",
    "from langchain_core.output_parsers import StrOutputParser\n",
    "from langchain_core.runnables import RunnableLambda\n",
    "\n",
    "\n",
    "# 파이썬 코드를 실행하고 중간 과정을 출력하고 도구 실행 결과를 반환하는 함수\n",
    "def print_and_execute(code, debug=True):\n",
    "    if debug:\n",
    "        print(\"CODE:\")\n",
    "        print(code)\n",
    "    return python_tool.invoke(code)\n",
    "\n",
    "\n",
    "# 파이썬 코드를 작성하도록 요청하는 프롬프트\n",
    "prompt = ChatPromptTemplate.from_messages(\n",
    "    [\n",
    "        (\n",
    "            \"system\",\n",
    "            \"You are Raymond Hetting, an expert python programmer, well versed in meta-programming and elegant, concise and short but well documented code. You follow the PEP8 style guide. \"\n",
    "            \"Return only the code, no intro, no explanation, no chatty, no markdown, no code block, no nothing. Just the code.\",\n",
    "        ),\n",
    "        (\"human\", \"{input}\"),\n",
    "    ]\n",
    ")\n",
    "# LLM 모델 생성\n",
    "llm = AzureChatOpenAI(model=\"gpt-4o\", temperature=0)\n",
    "\n",
    "# 프롬프트와 LLM 모델을 사용하여 체인 생성\n",
    "chain = prompt | llm | StrOutputParser() | RunnableLambda(print_and_execute)"
   ]
  },
  {
   "cell_type": "code",
   "execution_count": 30,
   "metadata": {},
   "outputs": [
    {
     "name": "stdout",
     "output_type": "stream",
     "text": [
      "CODE:\n",
      "import random\n",
      "\n",
      "def generate_lotto_numbers():\n",
      "    \"\"\"Generate a set of 6 unique lotto numbers from 1 to 45.\"\"\"\n",
      "    return sorted(random.sample(range(1, 46), 6))\n",
      "\n",
      "print(generate_lotto_numbers())\n",
      "[11, 22, 30, 35, 39, 44]\n",
      "\n"
     ]
    }
   ],
   "source": [
    "# 결과 출력\n",
    "print(chain.invoke(\"로또 번호 생성기를 출력하는 코드를 간단하게 작성하세요.\"))"
   ]
  },
  {
   "cell_type": "markdown",
   "metadata": {},
   "source": [
    "### 검색 API 도구\n",
    "\n",
    "Tavily 검색 API를 활용하여 검색 기능을 구현하는 도구입니다. 이 도구는 두 가지 주요 클래스를 제공합니다: `TavilySearchResults`와 `TavilyAnswer`.\n",
    "\n",
    "**API 키 발급 주소**\n",
    "- https://app.tavily.com/\n",
    "\n",
    "발급한 API 키를 환경변수에 설정합니다.\n",
    "\n",
    "`.env` 파일에 아래와 같이 설정합니다.\n",
    "\n",
    "```\n",
    "TAVILY_API_KEY=tvly-abcdefghijklmnopqrstuvwxyz\n",
    "```\n",
    "\n",
    "### TavilySearchResults\n",
    "\n",
    "**설명**\n",
    "- Tavily 검색 API를 쿼리하고 JSON 형식의 결과를 반환합니다.\n",
    "- 포괄적이고 정확하며 신뢰할 수 있는 결과에 최적화된 검색 엔진입니다.\n",
    "- 현재 이벤트에 대한 질문에 답변할 때 유용합니다.\n",
    "\n",
    "**주요 매개변수**\n",
    "- `max_results` (int): 반환할 최대 검색 결과 수 (기본값: 5)\n",
    "- `search_depth` (str): 검색 깊이 (\"basic\" 또는 \"advanced\")\n",
    "- `include_domains` (List[str]): 검색 결과에 포함할 도메인 목록\n",
    "- `exclude_domains` (List[str]): 검색 결과에서 제외할 도메인 목록\n",
    "- `include_answer` (bool): 원본 쿼리에 대한 짧은 답변 포함 여부\n",
    "- `include_raw_content` (bool): 각 사이트의 정제된 HTML 콘텐츠 포함 여부\n",
    "- `include_images` (bool): 쿼리 관련 이미지 목록 포함 여부\n",
    "\n",
    "**반환 값**\n",
    "- 검색 결과를 포함하는 JSON 형식의 문자열(url, content)"
   ]
  },
  {
   "cell_type": "markdown",
   "metadata": {},
   "source": [
    "혹은 아래의 주석을 해제하고 발급받은 API 키를 입력합니다."
   ]
  },
  {
   "cell_type": "code",
   "execution_count": 10,
   "metadata": {},
   "outputs": [],
   "source": [
    "# import os\n",
    "\n",
    "# os.environ[\"TAVILY_API_KEY\"] = \"TAVILY API 키 입력\""
   ]
  },
  {
   "cell_type": "code",
   "execution_count": 32,
   "metadata": {},
   "outputs": [],
   "source": [
    "from langchain_community.tools.tavily_search import TavilySearchResults\n",
    "\n",
    "# 도구 생성\n",
    "tool = TavilySearchResults(\n",
    "    max_results=6,\n",
    "    include_answer=True,\n",
    "    include_raw_content=True,\n",
    "    # include_images=True,\n",
    "    # search_depth=\"advanced\", # or \"basic\"\n",
    "    include_domains=[\"github.io\", \"wikidocs.net\"],\n",
    "    # exclude_domains = []\n",
    ")"
   ]
  },
  {
   "cell_type": "code",
   "execution_count": 33,
   "metadata": {},
   "outputs": [
    {
     "data": {
      "text/plain": [
       "[{'url': 'https://wikidocs.net/book/14473',\n",
       "  'content': '**랭체인(LangChain) 입문부터 응용까지** 이책은 거대언어모델(LLM)을 활용하여 애플리케이션과 파이프라인을 신속하게 구축할 때 주로 활용되는 랭체인(LangCha…'},\n",
       " {'url': 'https://wikidocs.net/book/2788',\n",
       "  'content': '[DL 입문 🖋️] - 인공 신경망(Artificial Neural Network) - 유원준, March 30, 2024, 11:10 p.m. 오탈자 수정하였습니다. 15-03 허깅페이스 토크나이저(Huggingface Tokenizer) - 유원준, March 1, 2024, 5:12 p.m. https://wikidocs.net/99893 여기서는 멀쩡하니 여기서 보시면 될 것 같네요. 13-02 LSTM을 이용한 네이버 영화 리뷰 분류 - Aug. 24, 2024, 3:26 p.m. 이번에 사용할 데이터는 네이버 영화 리뷰 데이터입니다. 13-03 GRU를 이용한 IMDB 리뷰 분류하기 - Aug. 24, 2024, 3:22 p.m. 1D CNN을 이용하여 IMDB 영화 리뷰 데이터를 분류해보겠습니다. 20-05 BERT를 이용한 다중 레이블 분류 - 하나의 데이터에 다수의 레이블 - Aug. 24, 2024, 3:11 p.m. 한국어 BERT를 이용하여 다중 레이블 분류 문제를 풀어보겠습니다.'},\n",
       " {'url': 'https://wikidocs.net/book/4542',\n",
       "  'content': '4, 2024, 10:10 p.m. set FLASK_APP=pybo 를 해줘도 아래 오류가 뜬다면 Error: Could not locate a Flask application. 3-13 마크다운 기능 적용하기 - 박응용, April 15, 2024, 3:12 p.m. 3-13 마크다운 기능 적용하기 - 송재영, April 15, 2024, 3 p.m. 플라스크 3.x 버전 업데이트로 인한 오류 안내 2023년 9월부터 플라스크의 버전이 3.0.0 으로 업데이트 되었다. 3-06 회원가입 - kukuku, Jan. 3, 2024, 10:07 p.m. 안녕하세요 wikidocs 를 통해 많이 배울 수 있어서 감사한 마음을 갖고 있습니다. - 박응용, Nov. 4, 2023, 6:30 p.m. 3-10 게시물 수정 & 삭제 - 박응용, Nov. 8, 2022, 6:15 p.m. 3-13 마크다운 기능 적용하기 - Jan. 26, 2024, 12:51 p.m. 0-05 책 구입 안내 - Nov. 17, 2022, 10:05 a.m. 점프 투 플라스크가 책으로 출간되었습니다.'},\n",
       " {'url': 'https://wikidocs.net/book/1173',\n",
       "  'content': '02) 멀티데이터 TR 사용하기 - nanavi, Aug. 22, 2023, 10:54 a.m. 실시간 데이타 활용 안해서... 02) 멀티데이터 TR 사용하기 - nanavi, Aug. 22, 2023, 9:43 a.m. from pykiwoom.kiwoom import * import time # 로그인 kiwoom = Kiwoom() kiwoom.CommConnect(block=True) df = kiwoom.block_request(\"opt10081\", 종목코드=\"005930\", 기준일자=\"20200424\", 수정주가구분=1, output=\"주식일봉차트조회\", next=0) print(df.head()) 장중에 그대로 실행하면요. 03) python-telegram-bot - 조대표, Feb. 18, 2023, 7:21 p.m. 01) 키움 로그인창 실행 - 조대표, Oct. 29, 2022, 4:04 p.m. 01) 싱글데이터 TR 사용하기 - 조대표, Oct. 29, 2022, 4:01 p.m. 01) 파이썬 설치 - Feb. 2, 2023, 3:41 p.m. 키움증권 실시간 - Aug. 2, 2022, 5:03 p.m. 실시간 02) 멀티데이터 TR 사용하기 - June 12, 2022, 11:20 p.m. 04) TR 사용하기 - Feb. 5, 2022, 3:28 p.m. 03) 메소드 사용하기 - Feb. 5, 2022, 3:12 p.m.'},\n",
       " {'url': 'https://wikidocs.net/30758',\n",
       "  'content': '구성요소 영역에서 그대로 가져올 경우 아래 그림과 같이 푸시버튼의 두 단자가 브레드보드에 연결되지 않습니다. 스케치 코드에서 setup()함수 내부에 있는 5번, 6번째 줄은 디지털 핀을 입력으로 사용할지 출력으로 사용할지 결정하는 pinMode() 함수를 이용해 디지털 8번핀은 LED를 켜고 끄기 위해 출력 모드 값 OUTPUT을 사용하고, 디지털 7번핀은 푸시버튼의 입력 값을 받기 위해 INPUT으로 설정합니다. 위 예제에서는 푸시버튼이 눌리면 HIGH 값을 반환하기 때문에 눌렸을 때 LED의 불빛을 켜기 위해 15번째 줄에서 digitalWrite() 함수를 사용해 디지털 8번핀에 연결된 LED에 HIGH 값을 출력합니다. 만약 readValue 값이 LOW라면 버튼이 눌리지 않은 상태를 의미하며 이때는 LED의 불빛을 끌 수 있도록 18번째 줄에서 digitalWrite() 함수를 통해 디지털 8번핀에 LOW 값을 출력합니다. 시리얼 모니터를 통해 실행결과를 확인하면 버튼이 눌리지 않았을 때 상수 LOW 값에 대한 정수 값인 0이 출력되고, 버튼이 눌리면 상수 HIGH 값에 대한 정수 값인 1이 출력되는 것을 확인할 수 있습니다.'},\n",
       " {'url': 'https://wikidocs.net/book/2',\n",
       "  'content': \"3.2.4 연습 문제: 놀이 공원 (1) - 전뇌해커, July 10, 2024, 1:04 p.m. 2.1.1 연습 문제: 입력받은 숫자만큼 반복하기(while) - ko, July 3, 2024, 9:22 a.m. 파이썬 출력 관련 질문드립니다. 3.1.2 연습 문제: 구구단 - 242, July 1, 2024, 6:12 p.m. def MT(): num1 = range(2, 10) num2 = range(1, 10) for a in num1: for b in num2: print(a, '*', b, '=', a * b) MT() 4.2.3 연습 문제: 회문 판별 함수 만들기 - 전뇌해커, May 25, 2024, 7:32 p.m. 4.2.3 연습 문제: 회문 판별 함수 만들기 - 손상혁, May 25, 2024, 1:55 p.m. 1.2.1 연습 문제: 파일 크기 계산 - 우린, May 21, 2024, 1:55 p.m.\"}]"
      ]
     },
     "execution_count": 33,
     "metadata": {},
     "output_type": "execute_result"
    }
   ],
   "source": [
    "# 도구 실행\n",
    "tool.invoke({\"query\": \"LangChain Tools 에 대해서 알려주세요\"})"
   ]
  },
  {
   "cell_type": "markdown",
   "metadata": {},
   "source": [
    "### Image 생성 도구 (DALL-E)\n",
    "\n",
    "- `DallEAPIWrapper 클래스`: OpenAI의 DALL-E 이미지 생성기를 위한 래퍼(wrapper)입니다.\n",
    "\n",
    "이 도구를 사용하면 DALL-E API를 쉽게 통합하여 텍스트 기반 이미지 생성 기능을 구현할 수 있습니다. 다양한 설정 옵션을 통해 유연하고 강력한 이미지 생성 도구로 활용할 수 있습니다.\n",
    "\n",
    "**주요 속성**\n",
    "\n",
    "- `model`: 사용할 DALL-E 모델 이름 (기본값: \"dall-e-2\", \"dall-e-3\")\n",
    "\n",
    "- `n`: 생성할 이미지 수 (기본값: 1)\n",
    "\n",
    "- `size`: 생성할 이미지 크기\n",
    "  - \"dall-e-2\": \"1024x1024\", \"512x512\", \"256x256\"\n",
    "  - \"dall-e-3\": \"1024x1024\", \"1792x1024\", \"1024x1792\"\n",
    "\n",
    "- `style`: 생성될 이미지의 스타일 (기본값: \"natural\", \"vivid\")\n",
    "\n",
    "- `quality`: 생성될 이미지의 품질 (기본값: \"standard\", \"hd\")\n",
    "\n",
    "- `max_retries`: 생성 시 최대 재시도 횟수\n",
    "\n",
    "**주요 기능**\n",
    "- DALL-E API를 사용하여 텍스트 설명에 기반한 이미지 생성"
   ]
  },
  {
   "cell_type": "markdown",
   "metadata": {},
   "source": [
    "**흐름 정리**\n",
    "\n",
    "다음은 DALL-E Image Generator 를 사용하여 이미지를 생성하는 예제입니다.\n",
    "\n",
    "이번에는 `DallEAPIWrapper` 를 사용하여 이미지를 생성해 보겠습니다.\n",
    "\n",
    "이때 입력 프롬프트는 LLM 모델에게 이미지를 생성하는 프롬프트를 작성하도록 요청합니다."
   ]
  },
  {
   "cell_type": "code",
   "execution_count": 14,
   "metadata": {},
   "outputs": [
    {
     "name": "stdout",
     "output_type": "stream",
     "text": [
      "Create a neo-classical painting that satirizes modern society's obsession with smartphones. The scene features a group of elegantly dressed individuals in a classical setting, reminiscent of ancient Rome or Greece. They are gathered around a large marble table, each one absorbed in their smartphones, completely ignoring their surroundings. The background features grand columns, lush greenery, and a serene landscape, contrasting with the modern devices in their hands. Include exaggerated facial expressions that convey distraction and bemusement. The color palette should be rich and earthy, with soft lighting that highlights the irony of their behavior. Add subtle details, like classical sculptures in the background, that emphasize the clash between tradition and modernity.\n"
     ]
    }
   ],
   "source": [
    "from langchain_core.output_parsers import StrOutputParser\n",
    "from langchain_core.prompts import PromptTemplate\n",
    "from langchain_openai import AzureChatOpenAI\n",
    "\n",
    "# ChatOpenAI 모델 초기화\n",
    "llm = AzureChatOpenAI(model=\"gpt-4o-mini\", temperature=0.9, max_tokens=1000)\n",
    "\n",
    "# DALL-E 이미지 생성을 위한 프롬프트 템플릿 정의\n",
    "prompt = PromptTemplate.from_template(\n",
    "    \"Generate a detailed IMAGE GENERATION prompt for DALL-E based on the following description. \"\n",
    "    \"Return only the prompt, no intro, no explanation, no chatty, no markdown, no code block, no nothing. Just the prompt\"\n",
    "    \"Output should be less than 1000 characters. Write in English only.\"\n",
    "    \"Image Description: \\n{image_desc}\",\n",
    ")\n",
    "\n",
    "# 프롬프트, LLM, 출력 파서를 연결하는 체인 생성\n",
    "chain = prompt | llm | StrOutputParser()\n",
    "\n",
    "# 체인 실행\n",
    "image_prompt = chain.invoke(\n",
    "    {\"image_desc\": \"스마트폰을 바라보는 사람들을 풍자한 neo-classicism painting\"}\n",
    ")\n",
    "\n",
    "# 이미지 프롬프트 출력\n",
    "print(image_prompt)"
   ]
  },
  {
   "cell_type": "markdown",
   "metadata": {},
   "source": [
    "그럼, 이전에 생성한 이미지 프롬프트를 `DallEAPIWrapper` 에 입력하여 이미지를 생성해 보겠습니다."
   ]
  },
  {
   "cell_type": "markdown",
   "metadata": {},
   "source": [
    "**`DallEAPIWrapper` 에 대한 임시 버그 안내사항** (작성일: 2024-10-13)\n",
    "\n",
    "- 현재 langchain 0.3.x 이상 버전에서 `DallEAPIWrapper` 에 대한 임시 버그가 있습니다. (`401 오류: invalid API key`)\n",
    "\n",
    "따라서, 아래의 코드를 오류 없이 실행하기 위해서는 LangChain 버전을 0.2.16 으로 변경해야 합니다.\n",
    "\n",
    "아래의 주석을 해제하고 실행하면 LangChain 버전을 0.2.16 으로 변경됩니다.\n",
    "\n",
    "하지만, 이후 내용에서는 LangChain 버전을 0.3.x 이상으로 변경하여 사용하기 때문에\n",
    "\n",
    "`poetry shell` 명령어를 통해 다시 최신 langchain 버전으로 변경해야 합니다.\n",
    "\n",
    "이 과정이 번거로운 분들은 일단 `DallEAPIWrapper` 를 사용하지 않고 진행하셔도 무방합니다.\n",
    "\n",
    "**업그레이드/다운그레이드** 후에는 반드시 상단 메뉴의 \"Restart\" 버튼을 클릭한 뒤 진행해야 합니다."
   ]
  },
  {
   "cell_type": "code",
   "execution_count": null,
   "metadata": {},
   "outputs": [],
   "source": [
    "# 임시 버전 다운그레이드 명령어 (실행 후 restart)\n",
    "!pip install langchain==0.2.16 langchain-community==0.2.16 langchain-text-splitters==0.2.4 langchain-experimental==0.0.65 langchain-openai==0.1.20"
   ]
  },
  {
   "cell_type": "code",
   "execution_count": null,
   "metadata": {},
   "outputs": [],
   "source": [
    "# DALL-E API 래퍼 가져오기\n",
    "from langchain_community.utilities.dalle_image_generator import DallEAPIWrapper\n",
    "from IPython.display import Image\n",
    "import os\n",
    "\n",
    "# DALL-E API 래퍼 초기화\n",
    "# model: 사용할 DALL-E 모델 버전\n",
    "# size: 생성할 이미지 크기\n",
    "# quality: 이미지 품질\n",
    "# n: 생성할 이미지 수\n",
    "dalle = DallEAPIWrapper(\n",
    "    model=\"dall-e-3\",\n",
    "    size=\"1024x1024\",\n",
    "    quality=\"standard\",\n",
    "    n=1,\n",
    ")\n",
    "\n",
    "# 질문\n",
    "query = \"스마트폰을 바라보는 사람들을 풍자한 neo-classicism painting\"\n",
    "\n",
    "# 이미지 생성 및 URL 받기\n",
    "# chain.invoke()를 사용하여 이미지 설명을 DALL-E 프롬프트로 변환\n",
    "# dalle.run()을 사용하여 실제 이미지 생성\n",
    "image_url = dalle.run(chain.invoke({\"image_desc\": query}))\n",
    "\n",
    "# 생성된 이미지를 표시합니다.\n",
    "Image(url=image_url, width=500)"
   ]
  },
  {
   "cell_type": "markdown",
   "metadata": {},
   "source": [
    "## 사용자 정의 도구(Custom Tool)\n",
    "\n",
    "LangChain 에서 제공하는 빌트인 도구 외에도 사용자가 직접 도구를 정의하여 사용할 수 있습니다.\n",
    "\n",
    "이를 위해서는 `langchain.tools` 모듈에서 제공하는 `tool` 데코레이터를 사용하여 함수를 도구로 변환합니다.\n",
    "\n",
    "### @tool 데코레이터\n",
    "\n",
    "이 데코레이터는 함수를 도구로 변환하는 기능을 제공합니다. 다양한 옵션을 통해 도구의 동작을 커스터마이즈할 수 있습니다.\n",
    "\n",
    "**사용 방법**\n",
    "1. 함수 위에 `@tool` 데코레이터 적용\n",
    "2. 필요에 따라 데코레이터 매개변수 설정\n",
    "\n",
    "이 데코레이터를 사용하면 일반 Python 함수를 강력한 도구로 쉽게 변환할 수 있으며, 자동화된 문서화와 유연한 인터페이스 생성이 가능합니다."
   ]
  },
  {
   "cell_type": "code",
   "execution_count": 17,
   "metadata": {},
   "outputs": [],
   "source": [
    "from langchain.tools import tool\n",
    "\n",
    "\n",
    "# 데코레이터를 사용하여 함수를 도구로 변환합니다.\n",
    "@tool\n",
    "def add_numbers(a: int, b: int) -> int:\n",
    "    \"\"\"Add two numbers\"\"\"\n",
    "    return a + b\n",
    "\n",
    "\n",
    "@tool\n",
    "def multiply_numbers(a: int, b: int) -> int:\n",
    "    \"\"\"Multiply two numbers\"\"\"\n",
    "    return a * b"
   ]
  },
  {
   "cell_type": "code",
   "execution_count": 18,
   "metadata": {},
   "outputs": [
    {
     "data": {
      "text/plain": [
       "7"
      ]
     },
     "execution_count": 18,
     "metadata": {},
     "output_type": "execute_result"
    }
   ],
   "source": [
    "# 도구 실행\n",
    "add_numbers.invoke({\"a\": 3, \"b\": 4})"
   ]
  },
  {
   "cell_type": "code",
   "execution_count": 19,
   "metadata": {},
   "outputs": [
    {
     "data": {
      "text/plain": [
       "12"
      ]
     },
     "execution_count": 19,
     "metadata": {},
     "output_type": "execute_result"
    }
   ],
   "source": [
    "# 도구 실행\n",
    "multiply_numbers.invoke({\"a\": 3, \"b\": 4})"
   ]
  },
  {
   "cell_type": "markdown",
   "metadata": {},
   "source": [
    "### 구글 뉴스기사 검색 도구\n",
    "\n",
    "`langchain-teddynote` 패키지에서 제공하는 `GoogleNews` 도구를 사용하여 구글 뉴스기사를 검색하는 도구입니다.\n",
    "\n",
    "**참고**\n",
    "- API 키가 필요하지 않습니다. (RSS 피드를 사용하기 때문)\n",
    "\n",
    "news.google.com 에서 제공하는 뉴스기사를 검색하는 도구입니다.\n",
    "\n",
    "**설명**\n",
    "- 구글 뉴스 검색 API를 사용하여 최신 뉴스를 검색합니다.\n",
    "- 키워드를 기반으로 뉴스를 검색할 수 있습니다.\n",
    "- 최신 뉴스를 검색할 수 있습니다.\n",
    "\n",
    "**주요 매개변수**\n",
    "- `k` (int): 반환할 최대 검색 결과 수 (기본값: 5)\n"
   ]
  },
  {
   "cell_type": "markdown",
   "metadata": {},
   "source": [
    "사용하기 전 패키지를 업데이트 해주세요."
   ]
  },
  {
   "cell_type": "code",
   "execution_count": 5,
   "metadata": {},
   "outputs": [],
   "source": [
    "# !pip install -qU langchain-teddynote"
   ]
  },
  {
   "cell_type": "code",
   "execution_count": 34,
   "metadata": {},
   "outputs": [],
   "source": [
    "from langchain_teddynote.tools import GoogleNews\n",
    "\n",
    "# 도구 생성\n",
    "news_tool = GoogleNews()"
   ]
  },
  {
   "cell_type": "code",
   "execution_count": 35,
   "metadata": {},
   "outputs": [
    {
     "data": {
      "text/plain": [
       "[{'url': 'https://news.google.com/rss/articles/CBMikAFBVV95cUxNd2hPaGp0X2UwUl91TE1OUjhibDNDdUFCYWlCcUNxQkl4QnFDaFJaSldlN2ZoSjZTQXA5aHlQZDFsOGh2SUpBdVJ0UEVJMUtaVzhYU0daUXMzclkxYUE4Y3FoY2t1Q05fd0Q3TXpiSnRNZTA3dHphUU1LYjhPc3JNLVlrWk9pYUw2TGk4LWd2RXLSAaQBQVVfeXFMT3dwTmcweDJHRVY2ZDE4blFZSll5NWM1UEZ6VnBVU0kzRmVuRlJwM0hoTGdwdG00aUt6VkZ0QThMQzV5bk9VWEdEbVRHS0xhendxY2FtellsV3FWRXJYbGFFZXJPemlnTnViRFZ0ZHhMVGVlYkQ3Nm9DdXRibzhjVDY4UDlFMmhkWFpZdHl3bXFGRzZ2NmtlZGprSkxvQ3BqeDFzMTI?oc=5',\n",
       "  'content': '[속보] 대통령 경호처 경찰 ‘서버 압수수색’ 거부 통보 - 조선일보'},\n",
       " {'url': 'https://news.google.com/rss/articles/CBMiVkFVX3lxTE53Tkw0UEhmSzk3QnVyUVpCdUQ4dGpiOVFtQW41OFc3WnllT21zM1I5NE5IdTJZYTZaNGp1UXB4di1BaXhWaVJGdzAwZ3pPclRyU3lBc1V3?oc=5',\n",
       "  'content': '‘어릴때 옆방쓰던 사이’…이재명, 권성동 만나 “누구 제거하려고 싸우면 본인도 불행” - 매일경제'},\n",
       " {'url': 'https://news.google.com/rss/articles/CBMid0FVX3lxTE1VRUc1akI0VzV1T2FxSTlaUHJ3TkNPd1ZrdTRRN29oTzBGN0k5ZEJEelI0cU13RG5ldHlEaUdTLW4tbGtkZk5ka2JZNm5mcFh2UzZaRkpvdTNQTGNXVEVQd2hNVFMyM0NnTW5EZzlKR1NJQXJaVjFv0gFmQVVfeXFMUEhrRk93SEtwYk82RzdJUFRwQWNGbW9YSHI1aTlDakhoMjhYNDdvcWgzNEExZjI2RWhOR3F2czRPVXBoMWpOa2loTGlPalExSXd6X3hCZmM3QjNXTlRQV1F4blZoRlFn?oc=5',\n",
       "  'content': '민주, 韓대행에 “거부권 행사 포기하라…탄핵안 준비 중” - 동아일보'},\n",
       " {'url': 'https://news.google.com/rss/articles/CBMikAFBVV95cUxPME1BcUNsZ01tRjdjV2phYVZ5b0d1MmM0VFIzU1FhZUc1dUZNQTlwc3p5c0luamQyWWRBZW5IUDJISDU0NzlkRG1LTncweWEteXc0SlRnUjVBR1otbXFBT2cyYVdob3pBbHhRVmNybXUxUmcwcUk5MlpRcmxmeUVKUWdzS2k2UHRDSWszQ2NSa3jSAaQBQVVfeXFMT3Fmek1mR2NGRjRGYVdEdXpRdkE4VnA2UFl4TjJLZXRyTHJwaXNDLWhFNDd3TnhkTy01c3JJZ25oYnhLQUpqYXNaQlBDOHRGY29rbUotelJVYlpabDRKZHZ5M3hiRjhjMEVnaUo0RjI0NzNfMS1iRzRzVmtzN3A0dWVPVVlKajk1U2xudjJ6ZlBveHg0ZlBpQ1h0elNlMVFwZ0JaSHA?oc=5',\n",
       "  'content': '64번째 생일 맞은 尹 대통령...지지자들, 꽃바구니 보내 - 조선일보'},\n",
       " {'url': 'https://news.google.com/rss/articles/CBMiWkFVX3lxTE1IdWlkODhKZ2RfSEFqVXNlYnlnTHpLTW5xdFJXcGxQd3N1Q1VqQWVlTEpKM1JSRlFXREZQZWEtcDBZYl9wT3czcW5HbEVWYVBqcS1kM05oZ1ZSQdIBXEFVX3lxTE9Mdi1EUlhocWtuSkdrUTBoaFluN1ZnbEhsTjFyMEtnVmhMcWFjaDZGbzVnS2dCQXkzbTlkS1REdlE3SmpwbVNiLWYwWFREMEdDZEhRRUJ2Q3ZadmR5?oc=5',\n",
       "  'content': '“북한군, 드론에 총쏘며 좀비처럼 돌진”…미 당국자 “북한군 수백명 사상” - 경향신문'}]"
      ]
     },
     "execution_count": 35,
     "metadata": {},
     "output_type": "execute_result"
    }
   ],
   "source": [
    "# 최신 뉴스 검색\n",
    "news_tool.search_latest(k=5)"
   ]
  },
  {
   "cell_type": "code",
   "execution_count": 36,
   "metadata": {},
   "outputs": [
    {
     "data": {
      "text/plain": [
       "[{'url': 'https://news.google.com/rss/articles/CBMiakFVX3lxTFBqYXhIWVZadlpNSjNsZlRXN0JLNU9tNWF6UGoycTVyMzRFbmRwVVV0VU8wOWpTbzd2NjNraXFPelhiZ09zVnFoWXQ5OVFFU2VaelZhUE1ZX3dpWTlpQXg2aGFBQldoNy1scGc?oc=5',\n",
       "  'content': 'AI 투자 붐 타고 학술회의 \\'뉴립스\\'도 폭발적 성장...\"핵심 논제는 추론\" - AI타임스'},\n",
       " {'url': 'https://news.google.com/rss/articles/CBMiVkFVX3lxTE1laTZOZGZzTmx1QWRrTUNHbXNQRHgtMG1jV0NUVC1ySFJueGRFaXZJa0NoQWI1dlJfSmxhd0pSMDU3UUpWeDRqOEk2aVdyckMwZUdIbXN30gFXQVVfeXFMTVZ4VERkaTJPaUhxaVVONms2XzNTT3lBOHZYNzM2ekgwUGFDajU5UTNELWVTV2tRZWJiT3VndTNtdDVvY3pSNW95emJlNmZPVHVoNVpfeVUw?oc=5',\n",
       "  'content': \"[투자의 창] 'AI 투자' 전성시대 - 서울경제신문\"},\n",
       " {'url': 'https://news.google.com/rss/articles/CBMiWkFVX3lxTE4ybS1TVS1WQkFrZ3BUUzBKb1ZZcmlxTGdEQjhpbEJYa1NSeWFYTXp4djQzQlRFdk12eE9WQlEyaDI1ck1zNXpMZXhxeGxtMnF0ZnU0NG5kaUdMZ9IBVEFVX3lxTE1WaUdQbC1yYzUtTmNiY2k3NklUbVRkV05HMzdkaVVWTklvcHR0YTBEeko0MWFWa2ZUNnFiWEd5WVJqMzJKcWpocmlGTnpiblhOSnNLag?oc=5',\n",
       "  'content': '\"환율 오르는데 어디에 투자?\"…신한은행, 최초 AI 상담 서비스 - 한국경제'}]"
      ]
     },
     "execution_count": 36,
     "metadata": {},
     "output_type": "execute_result"
    }
   ],
   "source": [
    "# 키워드로 뉴스 검색\n",
    "news_tool.search_by_keyword(\"AI 투자\", k=3)"
   ]
  },
  {
   "cell_type": "code",
   "execution_count": 37,
   "metadata": {},
   "outputs": [],
   "source": [
    "from langchain_teddynote.tools import GoogleNews\n",
    "from langchain.tools import tool\n",
    "from typing import List, Dict\n",
    "\n",
    "\n",
    "# 키워드로 뉴스 검색하는 도구 생성\n",
    "@tool\n",
    "def search_keyword(query: str) -> List[Dict[str, str]]:\n",
    "    \"\"\"Look up news by keyword\"\"\"\n",
    "    print(query)\n",
    "    news_tool = GoogleNews()\n",
    "    return news_tool.search_by_keyword(query, k=5)"
   ]
  },
  {
   "cell_type": "code",
   "execution_count": 38,
   "metadata": {},
   "outputs": [
    {
     "name": "stdout",
     "output_type": "stream",
     "text": [
      "LangChain AI\n"
     ]
    },
    {
     "data": {
      "text/plain": [
       "[{'url': 'https://news.google.com/rss/articles/CBMieEFVX3lxTE15VWVUMHAxYVdMcmpKWnhHLXVRZnh4LVB5cnd0Vldia2ZlRmNGMnByWVVlWXJMakhyZTJKVlJvMWRIRkRjVTFuUE52WU9oVnN2VkM1UTRnWThFLVRaaE04TDZKM0VzbmNJMkFLLWoyNzc0SktDVXJ4Rw?oc=5',\n",
       "  'content': '가볍게 훑어보는 LangChain (랭체인) | 인사이트리포트 | 삼성SDS - Samsung SDS'},\n",
       " {'url': 'https://news.google.com/rss/articles/CBMizgJBVV95cUxQU1NSVHJ0eng3bzNVZWNibHBfV0txSkkxZDZvZXlsWXVhcHowWWlRVmwya1FnUm1Mc2FIWFFoSXdvdEY3WDVUbkprdnpDbFl2U1Fua3VjaEgtRHlZVnZlQjNIaTl6Um5NZ2dXenVQTjhMRUVDMzh2WUJjazloQUZmV1JfenBYT1EtWklqbkF2cEc2UFlwR1E0ek56Vjdqckc2Q0pESWd2NnlyYlQwcjBLNnpUem5CTzFaQUdWcTN4UUtROFJMV2ZvWXNrVm5hUDVLZ3cwTWZFT1lkZ2htWXl3LXZzQ25aeFI1SC02Ry1LQnU2aXZKTHEtNVZHazZnZHVBN1pSWEh6WFRoTGR2c19NOVBiXzFOUGNEQVRjSlRMRlBvY2lwaFlZcm1FOHNYZk1McVl5Unl3S1h0OHNadERXNVVuVU4yVVBsbV9HWG5n?oc=5',\n",
       "  'content': '대규모 AI 배포: NVIDIA NIM과 LangChain이 AI 통합 및 성능을 혁신하는 방법 - Unite.AI'},\n",
       " {'url': 'https://news.google.com/rss/articles/CBMiiwFBVV95cUxNTF9wdzNISGRrdzdYbDFfeUhMVWFXNnlVQWg0aVAzMFBaOExPNDRZd2Z3ckJua1AyaUZJbmxISXhZX1lGTXZLdDFQb29VTTZFQWV5bzMzc0dYV0JOQzhCMlg5VkdxX29aM0NTM1p1OW51T19Fa1FoZW5FR0lVQWVCb05IRENSZ3pRT2hJ?oc=5',\n",
       "  'content': 'Workers AI, Vectorize, D1에 대한 LangChain 지원 - Cloudflare'},\n",
       " {'url': 'https://news.google.com/rss/articles/CBMipAFBVV95cUxNMTZEUmQ3MTd6Q3BWblRSOHMzZ1N1ekYzamNLbnVlcG13ZXFTUEp2SHZJajMtMWVrNklTSmVwT3dCX3I0YUJBQnBUM3NTdHlUTlVLci1IRWV6X0hhU2lVZURtNEFaVmdQSEpIaHNxOGZzRGJXLUMzQmhsMjlfd0hodWF4X0JBTzJjQ25DV004MDJOUkswbTdrVkJ0bkhTTlhqOWJGUg?oc=5',\n",
       "  'content': '랭체인 아키텍처 및 동작 메커니즘 분석 - 캐드앤그래픽스'},\n",
       " {'url': 'https://news.google.com/rss/articles/CBMiVkFVX3lxTE11aWhNaUVUd091V3BPdVNvMGJsNzNqWGNFQjltUENtbTkxNU1yemNzZXVlcHRWRHgwMXZoZmg3NnJ0V3JXdTRpbEtsZWxLM2pVZWYyMVd3?oc=5',\n",
       "  'content': '생성 AI 혁신은 이제 시작... 질주하는 샌프란시스코 ‘뇌밸리’ - 더밀크 The Miilk'}]"
      ]
     },
     "execution_count": 38,
     "metadata": {},
     "output_type": "execute_result"
    }
   ],
   "source": [
    "# 실행 결과\n",
    "search_keyword.invoke({\"query\": \"LangChain AI\"})"
   ]
  }
 ],
 "metadata": {
  "kernelspec": {
   "display_name": "langchain-kr-lwwSZlnu-py3.11",
   "language": "python",
   "name": "python3"
  },
  "language_info": {
   "codemirror_mode": {
    "name": "ipython",
    "version": 3
   },
   "file_extension": ".py",
   "mimetype": "text/x-python",
   "name": "python",
   "nbconvert_exporter": "python",
   "pygments_lexer": "ipython3",
   "version": "3.11.10"
  }
 },
 "nbformat": 4,
 "nbformat_minor": 2
}
